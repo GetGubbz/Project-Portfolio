{
 "cells": [
  {
   "cell_type": "markdown",
   "id": "028c7d57",
   "metadata": {},
   "source": [
    "<h1>Bodyweight Analysis using Python</h1>\n",
    "<hr>\n",
    "<br>\n",
    "This is an analysis of over a year of collected data from my macro tracking. I am using this to practice my python skills using libraries like Pandas, NumPy, Matplotlib and more. As a powerlifter it is important to track data so I know I am making progress and <b> WHY </b> I am making progress. Nutrition plays a major role in how I perform in the gym and on the platform. This is the first time I am analyzing this data using visuals and making conclusions based off of what I see."
   ]
  },
  {
   "cell_type": "markdown",
   "id": "64e222b8",
   "metadata": {},
   "source": [
    "<h3>Imported Libraries</h3>\n",
    "<br>\n",
    "Started by importing the libraries I need"
   ]
  },
  {
   "cell_type": "code",
   "execution_count": 1,
   "id": "b3341fb3",
   "metadata": {},
   "outputs": [],
   "source": [
    "import numpy as np\n",
    "import pandas as pd\n",
    "import matplotlib.pyplot as plt\n",
    "%matplotlib inline\n",
    "import seaborn as sns\n",
    "import cufflinks as cf\n",
    "from plotly.offline import download_plotlyjs, init_notebook_mode,plot, iplot"
   ]
  },
  {
   "cell_type": "code",
   "execution_count": 2,
   "id": "5205848a",
   "metadata": {},
   "outputs": [
    {
     "data": {
      "text/html": [
       "        <script type=\"text/javascript\">\n",
       "        window.PlotlyConfig = {MathJaxConfig: 'local'};\n",
       "        if (window.MathJax) {MathJax.Hub.Config({SVG: {font: \"STIX-Web\"}});}\n",
       "        if (typeof require !== 'undefined') {\n",
       "        require.undef(\"plotly\");\n",
       "        requirejs.config({\n",
       "            paths: {\n",
       "                'plotly': ['https://cdn.plot.ly/plotly-2.9.0.min']\n",
       "            }\n",
       "        });\n",
       "        require(['plotly'], function(Plotly) {\n",
       "            window._Plotly = Plotly;\n",
       "        });\n",
       "        }\n",
       "        </script>\n",
       "        "
      ]
     },
     "metadata": {},
     "output_type": "display_data"
    }
   ],
   "source": [
    "init_notebook_mode(connected = True)"
   ]
  },
  {
   "cell_type": "code",
   "execution_count": 3,
   "id": "cb2b2817",
   "metadata": {},
   "outputs": [
    {
     "data": {
      "text/html": [
       "        <script type=\"text/javascript\">\n",
       "        window.PlotlyConfig = {MathJaxConfig: 'local'};\n",
       "        if (window.MathJax) {MathJax.Hub.Config({SVG: {font: \"STIX-Web\"}});}\n",
       "        if (typeof require !== 'undefined') {\n",
       "        require.undef(\"plotly\");\n",
       "        requirejs.config({\n",
       "            paths: {\n",
       "                'plotly': ['https://cdn.plot.ly/plotly-2.9.0.min']\n",
       "            }\n",
       "        });\n",
       "        require(['plotly'], function(Plotly) {\n",
       "            window._Plotly = Plotly;\n",
       "        });\n",
       "        }\n",
       "        </script>\n",
       "        "
      ]
     },
     "metadata": {},
     "output_type": "display_data"
    }
   ],
   "source": [
    "cf.go_offline()"
   ]
  },
  {
   "cell_type": "markdown",
   "id": "1bab1ed3",
   "metadata": {},
   "source": [
    "<h3>Imported Data</h3>\n",
    "<br>\n",
    "Of course, can't analyze data without the data! The data is submitted using google sheets, which I have downloaded as an Excel file for now. In the future I hope to automate this process somehow, but for now this is great for practicing."
   ]
  },
  {
   "cell_type": "code",
   "execution_count": 4,
   "id": "477c2a6c",
   "metadata": {
    "scrolled": true
   },
   "outputs": [],
   "source": [
    "bodycomp_df = pd.read_excel('PHAMISHED Coaching - Zach Hubbell (1).xlsx', header = 2)"
   ]
  },
  {
   "cell_type": "markdown",
   "id": "465e1542",
   "metadata": {},
   "source": [
    "<h2> Semi Clean Data for Reference"
   ]
  },
  {
   "cell_type": "code",
   "execution_count": 5,
   "id": "924a3b83",
   "metadata": {},
   "outputs": [],
   "source": [
    "bodycomp_df_unclean  = pd.read_excel('PHAMISHED Coaching - Zach Hubbell (1).xlsx', header = 2)\n",
    "bodycomp_df_unclean.columns = bodycomp_df_unclean.columns.str.replace(\"'\",\" \")\n",
    "del bodycomp_df_unclean['Coach s Comments']\n",
    "del bodycomp_df_unclean['Client Comments:\\nFeel free to make notes in this column (how training is going, stressful week, cheat meal, bloated, sickness, family event, exam week, etc)']"
   ]
  },
  {
   "cell_type": "code",
   "execution_count": 6,
   "id": "637f4e31",
   "metadata": {},
   "outputs": [
    {
     "data": {
      "text/html": [
       "<div>\n",
       "<style scoped>\n",
       "    .dataframe tbody tr th:only-of-type {\n",
       "        vertical-align: middle;\n",
       "    }\n",
       "\n",
       "    .dataframe tbody tr th {\n",
       "        vertical-align: top;\n",
       "    }\n",
       "\n",
       "    .dataframe thead th {\n",
       "        text-align: right;\n",
       "    }\n",
       "</style>\n",
       "<table border=\"1\" class=\"dataframe\">\n",
       "  <thead>\n",
       "    <tr style=\"text-align: right;\">\n",
       "      <th></th>\n",
       "      <th>Date</th>\n",
       "      <th>Weight (lb/kg)</th>\n",
       "      <th>Calories</th>\n",
       "      <th>Carb</th>\n",
       "      <th>Fat</th>\n",
       "      <th>Protein</th>\n",
       "      <th>Eat Out (Y/N)?</th>\n",
       "      <th>Hours of quality sleep</th>\n",
       "      <th>Goal Calories</th>\n",
       "      <th>Carb.1</th>\n",
       "      <th>Fat.1</th>\n",
       "      <th>Protein.1</th>\n",
       "    </tr>\n",
       "  </thead>\n",
       "  <tbody>\n",
       "    <tr>\n",
       "      <th>0</th>\n",
       "      <td>2021-07-03 00:00:00</td>\n",
       "      <td>210.0</td>\n",
       "      <td>3400.0</td>\n",
       "      <td>405.0</td>\n",
       "      <td>100.0</td>\n",
       "      <td>200.0</td>\n",
       "      <td>N</td>\n",
       "      <td>5.0</td>\n",
       "      <td>3400</td>\n",
       "      <td>405.0</td>\n",
       "      <td>100.0</td>\n",
       "      <td>220.0</td>\n",
       "    </tr>\n",
       "    <tr>\n",
       "      <th>1</th>\n",
       "      <td>2021-07-04 00:00:00</td>\n",
       "      <td>NaN</td>\n",
       "      <td>NaN</td>\n",
       "      <td>NaN</td>\n",
       "      <td>NaN</td>\n",
       "      <td>NaN</td>\n",
       "      <td>NaN</td>\n",
       "      <td>NaN</td>\n",
       "      <td>3400</td>\n",
       "      <td>405.0</td>\n",
       "      <td>100.0</td>\n",
       "      <td>220.0</td>\n",
       "    </tr>\n",
       "    <tr>\n",
       "      <th>2</th>\n",
       "      <td>2021-07-05 00:00:00</td>\n",
       "      <td>214.4</td>\n",
       "      <td>NaN</td>\n",
       "      <td>NaN</td>\n",
       "      <td>NaN</td>\n",
       "      <td>NaN</td>\n",
       "      <td>NaN</td>\n",
       "      <td>3.0</td>\n",
       "      <td>3400</td>\n",
       "      <td>405.0</td>\n",
       "      <td>100.0</td>\n",
       "      <td>220.0</td>\n",
       "    </tr>\n",
       "    <tr>\n",
       "      <th>3</th>\n",
       "      <td>2021-07-06 00:00:00</td>\n",
       "      <td>211.8</td>\n",
       "      <td>3131.0</td>\n",
       "      <td>165.2</td>\n",
       "      <td>168.7</td>\n",
       "      <td>231.0</td>\n",
       "      <td>N</td>\n",
       "      <td>1.0</td>\n",
       "      <td>3400</td>\n",
       "      <td>405.0</td>\n",
       "      <td>100.0</td>\n",
       "      <td>220.0</td>\n",
       "    </tr>\n",
       "    <tr>\n",
       "      <th>4</th>\n",
       "      <td>2021-07-07 00:00:00</td>\n",
       "      <td>NaN</td>\n",
       "      <td>4019.0</td>\n",
       "      <td>361.0</td>\n",
       "      <td>189.0</td>\n",
       "      <td>207.0</td>\n",
       "      <td>N</td>\n",
       "      <td>4.0</td>\n",
       "      <td>3400</td>\n",
       "      <td>405.0</td>\n",
       "      <td>100.0</td>\n",
       "      <td>220.0</td>\n",
       "    </tr>\n",
       "    <tr>\n",
       "      <th>...</th>\n",
       "      <td>...</td>\n",
       "      <td>...</td>\n",
       "      <td>...</td>\n",
       "      <td>...</td>\n",
       "      <td>...</td>\n",
       "      <td>...</td>\n",
       "      <td>...</td>\n",
       "      <td>...</td>\n",
       "      <td>...</td>\n",
       "      <td>...</td>\n",
       "      <td>...</td>\n",
       "      <td>...</td>\n",
       "    </tr>\n",
       "    <tr>\n",
       "      <th>515</th>\n",
       "      <td>2022-09-27 00:00:00</td>\n",
       "      <td>225.8</td>\n",
       "      <td>NaN</td>\n",
       "      <td>NaN</td>\n",
       "      <td>NaN</td>\n",
       "      <td>NaN</td>\n",
       "      <td>NaN</td>\n",
       "      <td>9.0</td>\n",
       "      <td>NaN</td>\n",
       "      <td>NaN</td>\n",
       "      <td>NaN</td>\n",
       "      <td>NaN</td>\n",
       "    </tr>\n",
       "    <tr>\n",
       "      <th>516</th>\n",
       "      <td>2022-09-28 00:00:00</td>\n",
       "      <td>224.2</td>\n",
       "      <td>NaN</td>\n",
       "      <td>NaN</td>\n",
       "      <td>NaN</td>\n",
       "      <td>NaN</td>\n",
       "      <td>NaN</td>\n",
       "      <td>8.0</td>\n",
       "      <td>NaN</td>\n",
       "      <td>NaN</td>\n",
       "      <td>NaN</td>\n",
       "      <td>NaN</td>\n",
       "    </tr>\n",
       "    <tr>\n",
       "      <th>517</th>\n",
       "      <td>2022-09-29 00:00:00</td>\n",
       "      <td>NaN</td>\n",
       "      <td>NaN</td>\n",
       "      <td>NaN</td>\n",
       "      <td>NaN</td>\n",
       "      <td>NaN</td>\n",
       "      <td>NaN</td>\n",
       "      <td>NaN</td>\n",
       "      <td>NaN</td>\n",
       "      <td>NaN</td>\n",
       "      <td>NaN</td>\n",
       "      <td>NaN</td>\n",
       "    </tr>\n",
       "    <tr>\n",
       "      <th>518</th>\n",
       "      <td>2022-09-30 00:00:00</td>\n",
       "      <td>NaN</td>\n",
       "      <td>NaN</td>\n",
       "      <td>NaN</td>\n",
       "      <td>NaN</td>\n",
       "      <td>NaN</td>\n",
       "      <td>NaN</td>\n",
       "      <td>NaN</td>\n",
       "      <td>NaN</td>\n",
       "      <td>NaN</td>\n",
       "      <td>NaN</td>\n",
       "      <td>NaN</td>\n",
       "    </tr>\n",
       "    <tr>\n",
       "      <th>519</th>\n",
       "      <td>Post Meet</td>\n",
       "      <td>225.4</td>\n",
       "      <td>#DIV/0!</td>\n",
       "      <td>#DIV/0!</td>\n",
       "      <td>#DIV/0!</td>\n",
       "      <td>#DIV/0!</td>\n",
       "      <td>NaN</td>\n",
       "      <td>8.666667</td>\n",
       "      <td>#DIV/0!</td>\n",
       "      <td>#DIV/0!</td>\n",
       "      <td>#DIV/0!</td>\n",
       "      <td>#DIV/0!</td>\n",
       "    </tr>\n",
       "  </tbody>\n",
       "</table>\n",
       "<p>520 rows × 12 columns</p>\n",
       "</div>"
      ],
      "text/plain": [
       "                    Date Weight (lb/kg) Calories     Carb      Fat  Protein  \\\n",
       "0    2021-07-03 00:00:00          210.0   3400.0    405.0    100.0    200.0   \n",
       "1    2021-07-04 00:00:00            NaN      NaN      NaN      NaN      NaN   \n",
       "2    2021-07-05 00:00:00          214.4      NaN      NaN      NaN      NaN   \n",
       "3    2021-07-06 00:00:00          211.8   3131.0    165.2    168.7    231.0   \n",
       "4    2021-07-07 00:00:00            NaN   4019.0    361.0    189.0    207.0   \n",
       "..                   ...            ...      ...      ...      ...      ...   \n",
       "515  2022-09-27 00:00:00          225.8      NaN      NaN      NaN      NaN   \n",
       "516  2022-09-28 00:00:00          224.2      NaN      NaN      NaN      NaN   \n",
       "517  2022-09-29 00:00:00            NaN      NaN      NaN      NaN      NaN   \n",
       "518  2022-09-30 00:00:00            NaN      NaN      NaN      NaN      NaN   \n",
       "519            Post Meet          225.4  #DIV/0!  #DIV/0!  #DIV/0!  #DIV/0!   \n",
       "\n",
       "    Eat Out (Y/N)? Hours of quality sleep Goal Calories   Carb.1    Fat.1  \\\n",
       "0                N                    5.0          3400    405.0    100.0   \n",
       "1              NaN                    NaN          3400    405.0    100.0   \n",
       "2              NaN                    3.0          3400    405.0    100.0   \n",
       "3                N                    1.0          3400    405.0    100.0   \n",
       "4                N                    4.0          3400    405.0    100.0   \n",
       "..             ...                    ...           ...      ...      ...   \n",
       "515            NaN                    9.0           NaN      NaN      NaN   \n",
       "516            NaN                    8.0           NaN      NaN      NaN   \n",
       "517            NaN                    NaN           NaN      NaN      NaN   \n",
       "518            NaN                    NaN           NaN      NaN      NaN   \n",
       "519            NaN               8.666667       #DIV/0!  #DIV/0!  #DIV/0!   \n",
       "\n",
       "    Protein.1  \n",
       "0       220.0  \n",
       "1       220.0  \n",
       "2       220.0  \n",
       "3       220.0  \n",
       "4       220.0  \n",
       "..        ...  \n",
       "515       NaN  \n",
       "516       NaN  \n",
       "517       NaN  \n",
       "518       NaN  \n",
       "519   #DIV/0!  \n",
       "\n",
       "[520 rows x 12 columns]"
      ]
     },
     "execution_count": 6,
     "metadata": {},
     "output_type": "execute_result"
    }
   ],
   "source": [
    "bodycomp_df_unclean"
   ]
  },
  {
   "cell_type": "markdown",
   "id": "b38e13df",
   "metadata": {},
   "source": [
    "<h2>Cleaning the Data</h2>\n",
    "<br>\n",
    "Dropping columns and moving rows to make a better looking Data Frame"
   ]
  },
  {
   "cell_type": "code",
   "execution_count": 7,
   "id": "8636f248",
   "metadata": {},
   "outputs": [],
   "source": [
    "bodycomp_df.columns = bodycomp_df.columns.str.replace(\"'\",\" \")"
   ]
  },
  {
   "cell_type": "code",
   "execution_count": 8,
   "id": "163b0773",
   "metadata": {
    "scrolled": true
   },
   "outputs": [],
   "source": [
    "del bodycomp_df['Coach s Comments']"
   ]
  },
  {
   "cell_type": "code",
   "execution_count": 9,
   "id": "9cdfc1db",
   "metadata": {},
   "outputs": [],
   "source": [
    "del bodycomp_df['Client Comments:\\nFeel free to make notes in this column (how training is going, stressful week, cheat meal, bloated, sickness, family event, exam week, etc)']"
   ]
  },
  {
   "cell_type": "code",
   "execution_count": 10,
   "id": "fd669b97",
   "metadata": {
    "scrolled": true
   },
   "outputs": [
    {
     "data": {
      "text/html": [
       "<div>\n",
       "<style scoped>\n",
       "    .dataframe tbody tr th:only-of-type {\n",
       "        vertical-align: middle;\n",
       "    }\n",
       "\n",
       "    .dataframe tbody tr th {\n",
       "        vertical-align: top;\n",
       "    }\n",
       "\n",
       "    .dataframe thead th {\n",
       "        text-align: right;\n",
       "    }\n",
       "</style>\n",
       "<table border=\"1\" class=\"dataframe\">\n",
       "  <thead>\n",
       "    <tr style=\"text-align: right;\">\n",
       "      <th></th>\n",
       "      <th>Date</th>\n",
       "      <th>Weight (lb/kg)</th>\n",
       "      <th>Calories</th>\n",
       "      <th>Carb</th>\n",
       "      <th>Fat</th>\n",
       "      <th>Protein</th>\n",
       "      <th>Eat Out (Y/N)?</th>\n",
       "      <th>Hours of quality sleep</th>\n",
       "      <th>Goal Calories</th>\n",
       "      <th>Carb.1</th>\n",
       "      <th>Fat.1</th>\n",
       "      <th>Protein.1</th>\n",
       "    </tr>\n",
       "  </thead>\n",
       "  <tbody>\n",
       "    <tr>\n",
       "      <th>0</th>\n",
       "      <td>2021-07-03 00:00:00</td>\n",
       "      <td>210.0</td>\n",
       "      <td>3400.0</td>\n",
       "      <td>405.0</td>\n",
       "      <td>100.0</td>\n",
       "      <td>200.0</td>\n",
       "      <td>N</td>\n",
       "      <td>5.0</td>\n",
       "      <td>3400</td>\n",
       "      <td>405.0</td>\n",
       "      <td>100.0</td>\n",
       "      <td>220.0</td>\n",
       "    </tr>\n",
       "    <tr>\n",
       "      <th>1</th>\n",
       "      <td>2021-07-04 00:00:00</td>\n",
       "      <td>NaN</td>\n",
       "      <td>NaN</td>\n",
       "      <td>NaN</td>\n",
       "      <td>NaN</td>\n",
       "      <td>NaN</td>\n",
       "      <td>NaN</td>\n",
       "      <td>NaN</td>\n",
       "      <td>3400</td>\n",
       "      <td>405.0</td>\n",
       "      <td>100.0</td>\n",
       "      <td>220.0</td>\n",
       "    </tr>\n",
       "    <tr>\n",
       "      <th>2</th>\n",
       "      <td>2021-07-05 00:00:00</td>\n",
       "      <td>214.4</td>\n",
       "      <td>NaN</td>\n",
       "      <td>NaN</td>\n",
       "      <td>NaN</td>\n",
       "      <td>NaN</td>\n",
       "      <td>NaN</td>\n",
       "      <td>3.0</td>\n",
       "      <td>3400</td>\n",
       "      <td>405.0</td>\n",
       "      <td>100.0</td>\n",
       "      <td>220.0</td>\n",
       "    </tr>\n",
       "    <tr>\n",
       "      <th>3</th>\n",
       "      <td>2021-07-06 00:00:00</td>\n",
       "      <td>211.8</td>\n",
       "      <td>3131.0</td>\n",
       "      <td>165.2</td>\n",
       "      <td>168.7</td>\n",
       "      <td>231.0</td>\n",
       "      <td>N</td>\n",
       "      <td>1.0</td>\n",
       "      <td>3400</td>\n",
       "      <td>405.0</td>\n",
       "      <td>100.0</td>\n",
       "      <td>220.0</td>\n",
       "    </tr>\n",
       "    <tr>\n",
       "      <th>4</th>\n",
       "      <td>2021-07-07 00:00:00</td>\n",
       "      <td>NaN</td>\n",
       "      <td>4019.0</td>\n",
       "      <td>361.0</td>\n",
       "      <td>189.0</td>\n",
       "      <td>207.0</td>\n",
       "      <td>N</td>\n",
       "      <td>4.0</td>\n",
       "      <td>3400</td>\n",
       "      <td>405.0</td>\n",
       "      <td>100.0</td>\n",
       "      <td>220.0</td>\n",
       "    </tr>\n",
       "    <tr>\n",
       "      <th>...</th>\n",
       "      <td>...</td>\n",
       "      <td>...</td>\n",
       "      <td>...</td>\n",
       "      <td>...</td>\n",
       "      <td>...</td>\n",
       "      <td>...</td>\n",
       "      <td>...</td>\n",
       "      <td>...</td>\n",
       "      <td>...</td>\n",
       "      <td>...</td>\n",
       "      <td>...</td>\n",
       "      <td>...</td>\n",
       "    </tr>\n",
       "    <tr>\n",
       "      <th>515</th>\n",
       "      <td>2022-09-27 00:00:00</td>\n",
       "      <td>225.8</td>\n",
       "      <td>NaN</td>\n",
       "      <td>NaN</td>\n",
       "      <td>NaN</td>\n",
       "      <td>NaN</td>\n",
       "      <td>NaN</td>\n",
       "      <td>9.0</td>\n",
       "      <td>NaN</td>\n",
       "      <td>NaN</td>\n",
       "      <td>NaN</td>\n",
       "      <td>NaN</td>\n",
       "    </tr>\n",
       "    <tr>\n",
       "      <th>516</th>\n",
       "      <td>2022-09-28 00:00:00</td>\n",
       "      <td>224.2</td>\n",
       "      <td>NaN</td>\n",
       "      <td>NaN</td>\n",
       "      <td>NaN</td>\n",
       "      <td>NaN</td>\n",
       "      <td>NaN</td>\n",
       "      <td>8.0</td>\n",
       "      <td>NaN</td>\n",
       "      <td>NaN</td>\n",
       "      <td>NaN</td>\n",
       "      <td>NaN</td>\n",
       "    </tr>\n",
       "    <tr>\n",
       "      <th>517</th>\n",
       "      <td>2022-09-29 00:00:00</td>\n",
       "      <td>NaN</td>\n",
       "      <td>NaN</td>\n",
       "      <td>NaN</td>\n",
       "      <td>NaN</td>\n",
       "      <td>NaN</td>\n",
       "      <td>NaN</td>\n",
       "      <td>NaN</td>\n",
       "      <td>NaN</td>\n",
       "      <td>NaN</td>\n",
       "      <td>NaN</td>\n",
       "      <td>NaN</td>\n",
       "    </tr>\n",
       "    <tr>\n",
       "      <th>518</th>\n",
       "      <td>2022-09-30 00:00:00</td>\n",
       "      <td>NaN</td>\n",
       "      <td>NaN</td>\n",
       "      <td>NaN</td>\n",
       "      <td>NaN</td>\n",
       "      <td>NaN</td>\n",
       "      <td>NaN</td>\n",
       "      <td>NaN</td>\n",
       "      <td>NaN</td>\n",
       "      <td>NaN</td>\n",
       "      <td>NaN</td>\n",
       "      <td>NaN</td>\n",
       "    </tr>\n",
       "    <tr>\n",
       "      <th>519</th>\n",
       "      <td>Post Meet</td>\n",
       "      <td>225.4</td>\n",
       "      <td>#DIV/0!</td>\n",
       "      <td>#DIV/0!</td>\n",
       "      <td>#DIV/0!</td>\n",
       "      <td>#DIV/0!</td>\n",
       "      <td>NaN</td>\n",
       "      <td>8.666667</td>\n",
       "      <td>#DIV/0!</td>\n",
       "      <td>#DIV/0!</td>\n",
       "      <td>#DIV/0!</td>\n",
       "      <td>#DIV/0!</td>\n",
       "    </tr>\n",
       "  </tbody>\n",
       "</table>\n",
       "<p>520 rows × 12 columns</p>\n",
       "</div>"
      ],
      "text/plain": [
       "                    Date Weight (lb/kg) Calories     Carb      Fat  Protein  \\\n",
       "0    2021-07-03 00:00:00          210.0   3400.0    405.0    100.0    200.0   \n",
       "1    2021-07-04 00:00:00            NaN      NaN      NaN      NaN      NaN   \n",
       "2    2021-07-05 00:00:00          214.4      NaN      NaN      NaN      NaN   \n",
       "3    2021-07-06 00:00:00          211.8   3131.0    165.2    168.7    231.0   \n",
       "4    2021-07-07 00:00:00            NaN   4019.0    361.0    189.0    207.0   \n",
       "..                   ...            ...      ...      ...      ...      ...   \n",
       "515  2022-09-27 00:00:00          225.8      NaN      NaN      NaN      NaN   \n",
       "516  2022-09-28 00:00:00          224.2      NaN      NaN      NaN      NaN   \n",
       "517  2022-09-29 00:00:00            NaN      NaN      NaN      NaN      NaN   \n",
       "518  2022-09-30 00:00:00            NaN      NaN      NaN      NaN      NaN   \n",
       "519            Post Meet          225.4  #DIV/0!  #DIV/0!  #DIV/0!  #DIV/0!   \n",
       "\n",
       "    Eat Out (Y/N)? Hours of quality sleep Goal Calories   Carb.1    Fat.1  \\\n",
       "0                N                    5.0          3400    405.0    100.0   \n",
       "1              NaN                    NaN          3400    405.0    100.0   \n",
       "2              NaN                    3.0          3400    405.0    100.0   \n",
       "3                N                    1.0          3400    405.0    100.0   \n",
       "4                N                    4.0          3400    405.0    100.0   \n",
       "..             ...                    ...           ...      ...      ...   \n",
       "515            NaN                    9.0           NaN      NaN      NaN   \n",
       "516            NaN                    8.0           NaN      NaN      NaN   \n",
       "517            NaN                    NaN           NaN      NaN      NaN   \n",
       "518            NaN                    NaN           NaN      NaN      NaN   \n",
       "519            NaN               8.666667       #DIV/0!  #DIV/0!  #DIV/0!   \n",
       "\n",
       "    Protein.1  \n",
       "0       220.0  \n",
       "1       220.0  \n",
       "2       220.0  \n",
       "3       220.0  \n",
       "4       220.0  \n",
       "..        ...  \n",
       "515       NaN  \n",
       "516       NaN  \n",
       "517       NaN  \n",
       "518       NaN  \n",
       "519   #DIV/0!  \n",
       "\n",
       "[520 rows x 12 columns]"
      ]
     },
     "execution_count": 10,
     "metadata": {},
     "output_type": "execute_result"
    }
   ],
   "source": [
    "bodycomp_df"
   ]
  },
  {
   "cell_type": "markdown",
   "id": "a3ccd485",
   "metadata": {},
   "source": [
    "<h3> Replace Headers </h3>"
   ]
  },
  {
   "cell_type": "code",
   "execution_count": 11,
   "id": "9061aaae",
   "metadata": {},
   "outputs": [],
   "source": [
    "bodycomp_df.rename(columns = {'Calories':'Tracked Calories', 'Carb':'Tracked Carb', 'Fat':'Tracked Fat', 'Protein':'Tracked Protein', 'Carb.1':'Goal Carb','Fat.1':'Goal Fat','Protein.1':'Goal Protein'}, inplace = True)"
   ]
  },
  {
   "cell_type": "code",
   "execution_count": 12,
   "id": "7ec3bb0e",
   "metadata": {},
   "outputs": [
    {
     "data": {
      "text/html": [
       "<div>\n",
       "<style scoped>\n",
       "    .dataframe tbody tr th:only-of-type {\n",
       "        vertical-align: middle;\n",
       "    }\n",
       "\n",
       "    .dataframe tbody tr th {\n",
       "        vertical-align: top;\n",
       "    }\n",
       "\n",
       "    .dataframe thead th {\n",
       "        text-align: right;\n",
       "    }\n",
       "</style>\n",
       "<table border=\"1\" class=\"dataframe\">\n",
       "  <thead>\n",
       "    <tr style=\"text-align: right;\">\n",
       "      <th></th>\n",
       "      <th>Date</th>\n",
       "      <th>Weight (lb/kg)</th>\n",
       "      <th>Tracked Calories</th>\n",
       "      <th>Tracked Carb</th>\n",
       "      <th>Tracked Fat</th>\n",
       "      <th>Tracked Protein</th>\n",
       "      <th>Eat Out (Y/N)?</th>\n",
       "      <th>Hours of quality sleep</th>\n",
       "      <th>Goal Calories</th>\n",
       "      <th>Goal Carb</th>\n",
       "      <th>Goal Fat</th>\n",
       "      <th>Goal Protein</th>\n",
       "    </tr>\n",
       "  </thead>\n",
       "  <tbody>\n",
       "    <tr>\n",
       "      <th>0</th>\n",
       "      <td>2021-07-03 00:00:00</td>\n",
       "      <td>210.0</td>\n",
       "      <td>3400.0</td>\n",
       "      <td>405.0</td>\n",
       "      <td>100.0</td>\n",
       "      <td>200.0</td>\n",
       "      <td>N</td>\n",
       "      <td>5.0</td>\n",
       "      <td>3400</td>\n",
       "      <td>405.0</td>\n",
       "      <td>100.0</td>\n",
       "      <td>220.0</td>\n",
       "    </tr>\n",
       "    <tr>\n",
       "      <th>1</th>\n",
       "      <td>2021-07-04 00:00:00</td>\n",
       "      <td>NaN</td>\n",
       "      <td>NaN</td>\n",
       "      <td>NaN</td>\n",
       "      <td>NaN</td>\n",
       "      <td>NaN</td>\n",
       "      <td>NaN</td>\n",
       "      <td>NaN</td>\n",
       "      <td>3400</td>\n",
       "      <td>405.0</td>\n",
       "      <td>100.0</td>\n",
       "      <td>220.0</td>\n",
       "    </tr>\n",
       "    <tr>\n",
       "      <th>2</th>\n",
       "      <td>2021-07-05 00:00:00</td>\n",
       "      <td>214.4</td>\n",
       "      <td>NaN</td>\n",
       "      <td>NaN</td>\n",
       "      <td>NaN</td>\n",
       "      <td>NaN</td>\n",
       "      <td>NaN</td>\n",
       "      <td>3.0</td>\n",
       "      <td>3400</td>\n",
       "      <td>405.0</td>\n",
       "      <td>100.0</td>\n",
       "      <td>220.0</td>\n",
       "    </tr>\n",
       "    <tr>\n",
       "      <th>3</th>\n",
       "      <td>2021-07-06 00:00:00</td>\n",
       "      <td>211.8</td>\n",
       "      <td>3131.0</td>\n",
       "      <td>165.2</td>\n",
       "      <td>168.7</td>\n",
       "      <td>231.0</td>\n",
       "      <td>N</td>\n",
       "      <td>1.0</td>\n",
       "      <td>3400</td>\n",
       "      <td>405.0</td>\n",
       "      <td>100.0</td>\n",
       "      <td>220.0</td>\n",
       "    </tr>\n",
       "    <tr>\n",
       "      <th>4</th>\n",
       "      <td>2021-07-07 00:00:00</td>\n",
       "      <td>NaN</td>\n",
       "      <td>4019.0</td>\n",
       "      <td>361.0</td>\n",
       "      <td>189.0</td>\n",
       "      <td>207.0</td>\n",
       "      <td>N</td>\n",
       "      <td>4.0</td>\n",
       "      <td>3400</td>\n",
       "      <td>405.0</td>\n",
       "      <td>100.0</td>\n",
       "      <td>220.0</td>\n",
       "    </tr>\n",
       "    <tr>\n",
       "      <th>...</th>\n",
       "      <td>...</td>\n",
       "      <td>...</td>\n",
       "      <td>...</td>\n",
       "      <td>...</td>\n",
       "      <td>...</td>\n",
       "      <td>...</td>\n",
       "      <td>...</td>\n",
       "      <td>...</td>\n",
       "      <td>...</td>\n",
       "      <td>...</td>\n",
       "      <td>...</td>\n",
       "      <td>...</td>\n",
       "    </tr>\n",
       "    <tr>\n",
       "      <th>515</th>\n",
       "      <td>2022-09-27 00:00:00</td>\n",
       "      <td>225.8</td>\n",
       "      <td>NaN</td>\n",
       "      <td>NaN</td>\n",
       "      <td>NaN</td>\n",
       "      <td>NaN</td>\n",
       "      <td>NaN</td>\n",
       "      <td>9.0</td>\n",
       "      <td>NaN</td>\n",
       "      <td>NaN</td>\n",
       "      <td>NaN</td>\n",
       "      <td>NaN</td>\n",
       "    </tr>\n",
       "    <tr>\n",
       "      <th>516</th>\n",
       "      <td>2022-09-28 00:00:00</td>\n",
       "      <td>224.2</td>\n",
       "      <td>NaN</td>\n",
       "      <td>NaN</td>\n",
       "      <td>NaN</td>\n",
       "      <td>NaN</td>\n",
       "      <td>NaN</td>\n",
       "      <td>8.0</td>\n",
       "      <td>NaN</td>\n",
       "      <td>NaN</td>\n",
       "      <td>NaN</td>\n",
       "      <td>NaN</td>\n",
       "    </tr>\n",
       "    <tr>\n",
       "      <th>517</th>\n",
       "      <td>2022-09-29 00:00:00</td>\n",
       "      <td>NaN</td>\n",
       "      <td>NaN</td>\n",
       "      <td>NaN</td>\n",
       "      <td>NaN</td>\n",
       "      <td>NaN</td>\n",
       "      <td>NaN</td>\n",
       "      <td>NaN</td>\n",
       "      <td>NaN</td>\n",
       "      <td>NaN</td>\n",
       "      <td>NaN</td>\n",
       "      <td>NaN</td>\n",
       "    </tr>\n",
       "    <tr>\n",
       "      <th>518</th>\n",
       "      <td>2022-09-30 00:00:00</td>\n",
       "      <td>NaN</td>\n",
       "      <td>NaN</td>\n",
       "      <td>NaN</td>\n",
       "      <td>NaN</td>\n",
       "      <td>NaN</td>\n",
       "      <td>NaN</td>\n",
       "      <td>NaN</td>\n",
       "      <td>NaN</td>\n",
       "      <td>NaN</td>\n",
       "      <td>NaN</td>\n",
       "      <td>NaN</td>\n",
       "    </tr>\n",
       "    <tr>\n",
       "      <th>519</th>\n",
       "      <td>Post Meet</td>\n",
       "      <td>225.4</td>\n",
       "      <td>#DIV/0!</td>\n",
       "      <td>#DIV/0!</td>\n",
       "      <td>#DIV/0!</td>\n",
       "      <td>#DIV/0!</td>\n",
       "      <td>NaN</td>\n",
       "      <td>8.666667</td>\n",
       "      <td>#DIV/0!</td>\n",
       "      <td>#DIV/0!</td>\n",
       "      <td>#DIV/0!</td>\n",
       "      <td>#DIV/0!</td>\n",
       "    </tr>\n",
       "  </tbody>\n",
       "</table>\n",
       "<p>520 rows × 12 columns</p>\n",
       "</div>"
      ],
      "text/plain": [
       "                    Date Weight (lb/kg) Tracked Calories Tracked Carb  \\\n",
       "0    2021-07-03 00:00:00          210.0           3400.0        405.0   \n",
       "1    2021-07-04 00:00:00            NaN              NaN          NaN   \n",
       "2    2021-07-05 00:00:00          214.4              NaN          NaN   \n",
       "3    2021-07-06 00:00:00          211.8           3131.0        165.2   \n",
       "4    2021-07-07 00:00:00            NaN           4019.0        361.0   \n",
       "..                   ...            ...              ...          ...   \n",
       "515  2022-09-27 00:00:00          225.8              NaN          NaN   \n",
       "516  2022-09-28 00:00:00          224.2              NaN          NaN   \n",
       "517  2022-09-29 00:00:00            NaN              NaN          NaN   \n",
       "518  2022-09-30 00:00:00            NaN              NaN          NaN   \n",
       "519            Post Meet          225.4          #DIV/0!      #DIV/0!   \n",
       "\n",
       "    Tracked Fat Tracked Protein Eat Out (Y/N)? Hours of quality sleep  \\\n",
       "0         100.0           200.0              N                    5.0   \n",
       "1           NaN             NaN            NaN                    NaN   \n",
       "2           NaN             NaN            NaN                    3.0   \n",
       "3         168.7           231.0              N                    1.0   \n",
       "4         189.0           207.0              N                    4.0   \n",
       "..          ...             ...            ...                    ...   \n",
       "515         NaN             NaN            NaN                    9.0   \n",
       "516         NaN             NaN            NaN                    8.0   \n",
       "517         NaN             NaN            NaN                    NaN   \n",
       "518         NaN             NaN            NaN                    NaN   \n",
       "519     #DIV/0!         #DIV/0!            NaN               8.666667   \n",
       "\n",
       "    Goal Calories Goal Carb Goal Fat Goal Protein  \n",
       "0            3400     405.0    100.0        220.0  \n",
       "1            3400     405.0    100.0        220.0  \n",
       "2            3400     405.0    100.0        220.0  \n",
       "3            3400     405.0    100.0        220.0  \n",
       "4            3400     405.0    100.0        220.0  \n",
       "..            ...       ...      ...          ...  \n",
       "515           NaN       NaN      NaN          NaN  \n",
       "516           NaN       NaN      NaN          NaN  \n",
       "517           NaN       NaN      NaN          NaN  \n",
       "518           NaN       NaN      NaN          NaN  \n",
       "519       #DIV/0!   #DIV/0!  #DIV/0!      #DIV/0!  \n",
       "\n",
       "[520 rows x 12 columns]"
      ]
     },
     "execution_count": 12,
     "metadata": {},
     "output_type": "execute_result"
    }
   ],
   "source": [
    "bodycomp_df"
   ]
  },
  {
   "cell_type": "markdown",
   "id": "0a821e9c",
   "metadata": {},
   "source": [
    "<h3> Dropped Missing Data</h3>\n",
    "<br>\n",
    "I wanted to analyze data that I only tracked everything for. I feel as if it gives me a full picture and less variables to account for. There is definitely data I will be missing because of this, specially in the bodyweight section."
   ]
  },
  {
   "cell_type": "code",
   "execution_count": 13,
   "id": "dce0a717",
   "metadata": {
    "scrolled": true
   },
   "outputs": [],
   "source": [
    "bodycomp_df.dropna(inplace = True)"
   ]
  },
  {
   "cell_type": "markdown",
   "id": "e2f06a3d",
   "metadata": {},
   "source": [
    "<h3>Dropping rows from excel that showed \"#DIV/0!\""
   ]
  },
  {
   "cell_type": "code",
   "execution_count": 14,
   "id": "6df90e0a",
   "metadata": {},
   "outputs": [],
   "source": [
    "bodycomp_df = bodycomp_df[bodycomp_df != '#DIV/0!']"
   ]
  },
  {
   "cell_type": "code",
   "execution_count": 15,
   "id": "090406f2",
   "metadata": {},
   "outputs": [
    {
     "data": {
      "text/html": [
       "<div>\n",
       "<style scoped>\n",
       "    .dataframe tbody tr th:only-of-type {\n",
       "        vertical-align: middle;\n",
       "    }\n",
       "\n",
       "    .dataframe tbody tr th {\n",
       "        vertical-align: top;\n",
       "    }\n",
       "\n",
       "    .dataframe thead th {\n",
       "        text-align: right;\n",
       "    }\n",
       "</style>\n",
       "<table border=\"1\" class=\"dataframe\">\n",
       "  <thead>\n",
       "    <tr style=\"text-align: right;\">\n",
       "      <th></th>\n",
       "      <th>Date</th>\n",
       "      <th>Weight (lb/kg)</th>\n",
       "      <th>Tracked Calories</th>\n",
       "      <th>Tracked Carb</th>\n",
       "      <th>Tracked Fat</th>\n",
       "      <th>Tracked Protein</th>\n",
       "      <th>Eat Out (Y/N)?</th>\n",
       "      <th>Hours of quality sleep</th>\n",
       "      <th>Goal Calories</th>\n",
       "      <th>Goal Carb</th>\n",
       "      <th>Goal Fat</th>\n",
       "      <th>Goal Protein</th>\n",
       "    </tr>\n",
       "  </thead>\n",
       "  <tbody>\n",
       "    <tr>\n",
       "      <th>0</th>\n",
       "      <td>2021-07-03 00:00:00</td>\n",
       "      <td>210.0</td>\n",
       "      <td>3400.0</td>\n",
       "      <td>405.0</td>\n",
       "      <td>100.0</td>\n",
       "      <td>200.0</td>\n",
       "      <td>N</td>\n",
       "      <td>5.0</td>\n",
       "      <td>3400</td>\n",
       "      <td>405.0</td>\n",
       "      <td>100.0</td>\n",
       "      <td>220.0</td>\n",
       "    </tr>\n",
       "    <tr>\n",
       "      <th>3</th>\n",
       "      <td>2021-07-06 00:00:00</td>\n",
       "      <td>211.8</td>\n",
       "      <td>3131.0</td>\n",
       "      <td>165.2</td>\n",
       "      <td>168.7</td>\n",
       "      <td>231.0</td>\n",
       "      <td>N</td>\n",
       "      <td>1.0</td>\n",
       "      <td>3400</td>\n",
       "      <td>405.0</td>\n",
       "      <td>100.0</td>\n",
       "      <td>220.0</td>\n",
       "    </tr>\n",
       "    <tr>\n",
       "      <th>9</th>\n",
       "      <td>2021-07-11 00:00:00</td>\n",
       "      <td>214.0</td>\n",
       "      <td>2930.0</td>\n",
       "      <td>388.0</td>\n",
       "      <td>62.0</td>\n",
       "      <td>207.0</td>\n",
       "      <td>N</td>\n",
       "      <td>2.0</td>\n",
       "      <td>3400</td>\n",
       "      <td>405.0</td>\n",
       "      <td>100.0</td>\n",
       "      <td>220.0</td>\n",
       "    </tr>\n",
       "    <tr>\n",
       "      <th>10</th>\n",
       "      <td>2021-07-12 00:00:00</td>\n",
       "      <td>213.0</td>\n",
       "      <td>3416.0</td>\n",
       "      <td>402.0</td>\n",
       "      <td>102.0</td>\n",
       "      <td>228.0</td>\n",
       "      <td>N</td>\n",
       "      <td>1.0</td>\n",
       "      <td>3400</td>\n",
       "      <td>405.0</td>\n",
       "      <td>100.0</td>\n",
       "      <td>220.0</td>\n",
       "    </tr>\n",
       "    <tr>\n",
       "      <th>11</th>\n",
       "      <td>2021-07-13 00:00:00</td>\n",
       "      <td>213.4</td>\n",
       "      <td>3383.0</td>\n",
       "      <td>339.0</td>\n",
       "      <td>153.0</td>\n",
       "      <td>178.0</td>\n",
       "      <td>Y</td>\n",
       "      <td>3.0</td>\n",
       "      <td>3400</td>\n",
       "      <td>405.0</td>\n",
       "      <td>100.0</td>\n",
       "      <td>220.0</td>\n",
       "    </tr>\n",
       "    <tr>\n",
       "      <th>...</th>\n",
       "      <td>...</td>\n",
       "      <td>...</td>\n",
       "      <td>...</td>\n",
       "      <td>...</td>\n",
       "      <td>...</td>\n",
       "      <td>...</td>\n",
       "      <td>...</td>\n",
       "      <td>...</td>\n",
       "      <td>...</td>\n",
       "      <td>...</td>\n",
       "      <td>...</td>\n",
       "      <td>...</td>\n",
       "    </tr>\n",
       "    <tr>\n",
       "      <th>485</th>\n",
       "      <td>2022-09-01 00:00:00</td>\n",
       "      <td>224.4</td>\n",
       "      <td>3315.0</td>\n",
       "      <td>395.0</td>\n",
       "      <td>87.0</td>\n",
       "      <td>240.0</td>\n",
       "      <td>N</td>\n",
       "      <td>9.0</td>\n",
       "      <td>3400</td>\n",
       "      <td>380.0</td>\n",
       "      <td>100.0</td>\n",
       "      <td>245.0</td>\n",
       "    </tr>\n",
       "    <tr>\n",
       "      <th>486</th>\n",
       "      <td>2022-09-02 00:00:00</td>\n",
       "      <td>224.0</td>\n",
       "      <td>3554.0</td>\n",
       "      <td>396.0</td>\n",
       "      <td>98.0</td>\n",
       "      <td>273.0</td>\n",
       "      <td>N</td>\n",
       "      <td>7.0</td>\n",
       "      <td>3400</td>\n",
       "      <td>380.0</td>\n",
       "      <td>100.0</td>\n",
       "      <td>245.0</td>\n",
       "    </tr>\n",
       "    <tr>\n",
       "      <th>490</th>\n",
       "      <td>2022-09-05 00:00:00</td>\n",
       "      <td>224.4</td>\n",
       "      <td>2802.0</td>\n",
       "      <td>367.0</td>\n",
       "      <td>60.0</td>\n",
       "      <td>209.0</td>\n",
       "      <td>N</td>\n",
       "      <td>8.0</td>\n",
       "      <td>3400</td>\n",
       "      <td>380.0</td>\n",
       "      <td>100.0</td>\n",
       "      <td>245.0</td>\n",
       "    </tr>\n",
       "    <tr>\n",
       "      <th>491</th>\n",
       "      <td>2022-09-06 00:00:00</td>\n",
       "      <td>223.5</td>\n",
       "      <td>3269.0</td>\n",
       "      <td>433.0</td>\n",
       "      <td>59.0</td>\n",
       "      <td>260.0</td>\n",
       "      <td>N</td>\n",
       "      <td>6.0</td>\n",
       "      <td>3400</td>\n",
       "      <td>380.0</td>\n",
       "      <td>100.0</td>\n",
       "      <td>245.0</td>\n",
       "    </tr>\n",
       "    <tr>\n",
       "      <th>492</th>\n",
       "      <td>2022-09-07 00:00:00</td>\n",
       "      <td>223.4</td>\n",
       "      <td>3204.0</td>\n",
       "      <td>349.0</td>\n",
       "      <td>94.0</td>\n",
       "      <td>238.0</td>\n",
       "      <td>N</td>\n",
       "      <td>9.0</td>\n",
       "      <td>3400</td>\n",
       "      <td>380.0</td>\n",
       "      <td>100.0</td>\n",
       "      <td>245.0</td>\n",
       "    </tr>\n",
       "  </tbody>\n",
       "</table>\n",
       "<p>141 rows × 12 columns</p>\n",
       "</div>"
      ],
      "text/plain": [
       "                    Date Weight (lb/kg) Tracked Calories Tracked Carb  \\\n",
       "0    2021-07-03 00:00:00          210.0           3400.0        405.0   \n",
       "3    2021-07-06 00:00:00          211.8           3131.0        165.2   \n",
       "9    2021-07-11 00:00:00          214.0           2930.0        388.0   \n",
       "10   2021-07-12 00:00:00          213.0           3416.0        402.0   \n",
       "11   2021-07-13 00:00:00          213.4           3383.0        339.0   \n",
       "..                   ...            ...              ...          ...   \n",
       "485  2022-09-01 00:00:00          224.4           3315.0        395.0   \n",
       "486  2022-09-02 00:00:00          224.0           3554.0        396.0   \n",
       "490  2022-09-05 00:00:00          224.4           2802.0        367.0   \n",
       "491  2022-09-06 00:00:00          223.5           3269.0        433.0   \n",
       "492  2022-09-07 00:00:00          223.4           3204.0        349.0   \n",
       "\n",
       "    Tracked Fat Tracked Protein Eat Out (Y/N)? Hours of quality sleep  \\\n",
       "0         100.0           200.0              N                    5.0   \n",
       "3         168.7           231.0              N                    1.0   \n",
       "9          62.0           207.0              N                    2.0   \n",
       "10        102.0           228.0              N                    1.0   \n",
       "11        153.0           178.0              Y                    3.0   \n",
       "..          ...             ...            ...                    ...   \n",
       "485        87.0           240.0              N                    9.0   \n",
       "486        98.0           273.0              N                    7.0   \n",
       "490        60.0           209.0              N                    8.0   \n",
       "491        59.0           260.0              N                    6.0   \n",
       "492        94.0           238.0              N                    9.0   \n",
       "\n",
       "    Goal Calories Goal Carb Goal Fat Goal Protein  \n",
       "0            3400     405.0    100.0        220.0  \n",
       "3            3400     405.0    100.0        220.0  \n",
       "9            3400     405.0    100.0        220.0  \n",
       "10           3400     405.0    100.0        220.0  \n",
       "11           3400     405.0    100.0        220.0  \n",
       "..            ...       ...      ...          ...  \n",
       "485          3400     380.0    100.0        245.0  \n",
       "486          3400     380.0    100.0        245.0  \n",
       "490          3400     380.0    100.0        245.0  \n",
       "491          3400     380.0    100.0        245.0  \n",
       "492          3400     380.0    100.0        245.0  \n",
       "\n",
       "[141 rows x 12 columns]"
      ]
     },
     "execution_count": 15,
     "metadata": {},
     "output_type": "execute_result"
    }
   ],
   "source": [
    "bodycomp_df"
   ]
  },
  {
   "cell_type": "markdown",
   "id": "7c95c2e7",
   "metadata": {},
   "source": [
    "<h3>Dropping some values in \"Hours of quality sleep\" column due to inaccurate data</h3>\n",
    "<br>\n",
    "That column changed names sometime well after I started macro tracking. I know I did not have anything less than 3ish hours of sleep a night"
   ]
  },
  {
   "cell_type": "code",
   "execution_count": 16,
   "id": "5116205f",
   "metadata": {},
   "outputs": [],
   "source": [
    "bodycomp_df['Hours of quality sleep'] = pd.to_numeric(bodycomp_df['Hours of quality sleep'])\n",
    "bodycomp_df_clean = bodycomp_df.loc[bodycomp_df['Hours of quality sleep'] > 3]"
   ]
  },
  {
   "cell_type": "code",
   "execution_count": 17,
   "id": "b437430a",
   "metadata": {
    "collapsed": true
   },
   "outputs": [
    {
     "data": {
      "text/html": [
       "<div>\n",
       "<style scoped>\n",
       "    .dataframe tbody tr th:only-of-type {\n",
       "        vertical-align: middle;\n",
       "    }\n",
       "\n",
       "    .dataframe tbody tr th {\n",
       "        vertical-align: top;\n",
       "    }\n",
       "\n",
       "    .dataframe thead th {\n",
       "        text-align: right;\n",
       "    }\n",
       "</style>\n",
       "<table border=\"1\" class=\"dataframe\">\n",
       "  <thead>\n",
       "    <tr style=\"text-align: right;\">\n",
       "      <th></th>\n",
       "      <th>Date</th>\n",
       "      <th>Weight (lb/kg)</th>\n",
       "      <th>Tracked Calories</th>\n",
       "      <th>Tracked Carb</th>\n",
       "      <th>Tracked Fat</th>\n",
       "      <th>Tracked Protein</th>\n",
       "      <th>Eat Out (Y/N)?</th>\n",
       "      <th>Hours of quality sleep</th>\n",
       "      <th>Goal Calories</th>\n",
       "      <th>Goal Carb</th>\n",
       "      <th>Goal Fat</th>\n",
       "      <th>Goal Protein</th>\n",
       "    </tr>\n",
       "  </thead>\n",
       "  <tbody>\n",
       "    <tr>\n",
       "      <th>0</th>\n",
       "      <td>2021-07-03 00:00:00</td>\n",
       "      <td>210.0</td>\n",
       "      <td>3400.0</td>\n",
       "      <td>405.0</td>\n",
       "      <td>100.0</td>\n",
       "      <td>200.0</td>\n",
       "      <td>N</td>\n",
       "      <td>5.0</td>\n",
       "      <td>3400</td>\n",
       "      <td>405.0</td>\n",
       "      <td>100.0</td>\n",
       "      <td>220.0</td>\n",
       "    </tr>\n",
       "    <tr>\n",
       "      <th>14</th>\n",
       "      <td>2021-07-16 00:00:00</td>\n",
       "      <td>212.2</td>\n",
       "      <td>3102.0</td>\n",
       "      <td>399.0</td>\n",
       "      <td>80.0</td>\n",
       "      <td>208.0</td>\n",
       "      <td>N</td>\n",
       "      <td>4.0</td>\n",
       "      <td>3400</td>\n",
       "      <td>405.0</td>\n",
       "      <td>100.0</td>\n",
       "      <td>220.0</td>\n",
       "    </tr>\n",
       "    <tr>\n",
       "      <th>17</th>\n",
       "      <td>2021-07-18 00:00:00</td>\n",
       "      <td>211.6</td>\n",
       "      <td>3337.0</td>\n",
       "      <td>381.0</td>\n",
       "      <td>97.0</td>\n",
       "      <td>203.0</td>\n",
       "      <td>N</td>\n",
       "      <td>4.0</td>\n",
       "      <td>3170</td>\n",
       "      <td>370.0</td>\n",
       "      <td>90.0</td>\n",
       "      <td>220.0</td>\n",
       "    </tr>\n",
       "    <tr>\n",
       "      <th>21</th>\n",
       "      <td>2021-07-22 00:00:00</td>\n",
       "      <td>211.0</td>\n",
       "      <td>2423.0</td>\n",
       "      <td>211.0</td>\n",
       "      <td>91.0</td>\n",
       "      <td>188.0</td>\n",
       "      <td>N</td>\n",
       "      <td>4.0</td>\n",
       "      <td>3170</td>\n",
       "      <td>370.0</td>\n",
       "      <td>90.0</td>\n",
       "      <td>220.0</td>\n",
       "    </tr>\n",
       "    <tr>\n",
       "      <th>32</th>\n",
       "      <td>2021-07-31 00:00:00</td>\n",
       "      <td>211.2</td>\n",
       "      <td>3409.0</td>\n",
       "      <td>363.0</td>\n",
       "      <td>113.0</td>\n",
       "      <td>234.0</td>\n",
       "      <td>N</td>\n",
       "      <td>4.0</td>\n",
       "      <td>3170</td>\n",
       "      <td>370.0</td>\n",
       "      <td>90.0</td>\n",
       "      <td>220.0</td>\n",
       "    </tr>\n",
       "    <tr>\n",
       "      <th>...</th>\n",
       "      <td>...</td>\n",
       "      <td>...</td>\n",
       "      <td>...</td>\n",
       "      <td>...</td>\n",
       "      <td>...</td>\n",
       "      <td>...</td>\n",
       "      <td>...</td>\n",
       "      <td>...</td>\n",
       "      <td>...</td>\n",
       "      <td>...</td>\n",
       "      <td>...</td>\n",
       "      <td>...</td>\n",
       "    </tr>\n",
       "    <tr>\n",
       "      <th>485</th>\n",
       "      <td>2022-09-01 00:00:00</td>\n",
       "      <td>224.4</td>\n",
       "      <td>3315.0</td>\n",
       "      <td>395.0</td>\n",
       "      <td>87.0</td>\n",
       "      <td>240.0</td>\n",
       "      <td>N</td>\n",
       "      <td>9.0</td>\n",
       "      <td>3400</td>\n",
       "      <td>380.0</td>\n",
       "      <td>100.0</td>\n",
       "      <td>245.0</td>\n",
       "    </tr>\n",
       "    <tr>\n",
       "      <th>486</th>\n",
       "      <td>2022-09-02 00:00:00</td>\n",
       "      <td>224.0</td>\n",
       "      <td>3554.0</td>\n",
       "      <td>396.0</td>\n",
       "      <td>98.0</td>\n",
       "      <td>273.0</td>\n",
       "      <td>N</td>\n",
       "      <td>7.0</td>\n",
       "      <td>3400</td>\n",
       "      <td>380.0</td>\n",
       "      <td>100.0</td>\n",
       "      <td>245.0</td>\n",
       "    </tr>\n",
       "    <tr>\n",
       "      <th>490</th>\n",
       "      <td>2022-09-05 00:00:00</td>\n",
       "      <td>224.4</td>\n",
       "      <td>2802.0</td>\n",
       "      <td>367.0</td>\n",
       "      <td>60.0</td>\n",
       "      <td>209.0</td>\n",
       "      <td>N</td>\n",
       "      <td>8.0</td>\n",
       "      <td>3400</td>\n",
       "      <td>380.0</td>\n",
       "      <td>100.0</td>\n",
       "      <td>245.0</td>\n",
       "    </tr>\n",
       "    <tr>\n",
       "      <th>491</th>\n",
       "      <td>2022-09-06 00:00:00</td>\n",
       "      <td>223.5</td>\n",
       "      <td>3269.0</td>\n",
       "      <td>433.0</td>\n",
       "      <td>59.0</td>\n",
       "      <td>260.0</td>\n",
       "      <td>N</td>\n",
       "      <td>6.0</td>\n",
       "      <td>3400</td>\n",
       "      <td>380.0</td>\n",
       "      <td>100.0</td>\n",
       "      <td>245.0</td>\n",
       "    </tr>\n",
       "    <tr>\n",
       "      <th>492</th>\n",
       "      <td>2022-09-07 00:00:00</td>\n",
       "      <td>223.4</td>\n",
       "      <td>3204.0</td>\n",
       "      <td>349.0</td>\n",
       "      <td>94.0</td>\n",
       "      <td>238.0</td>\n",
       "      <td>N</td>\n",
       "      <td>9.0</td>\n",
       "      <td>3400</td>\n",
       "      <td>380.0</td>\n",
       "      <td>100.0</td>\n",
       "      <td>245.0</td>\n",
       "    </tr>\n",
       "  </tbody>\n",
       "</table>\n",
       "<p>108 rows × 12 columns</p>\n",
       "</div>"
      ],
      "text/plain": [
       "                    Date Weight (lb/kg) Tracked Calories Tracked Carb  \\\n",
       "0    2021-07-03 00:00:00          210.0           3400.0        405.0   \n",
       "14   2021-07-16 00:00:00          212.2           3102.0        399.0   \n",
       "17   2021-07-18 00:00:00          211.6           3337.0        381.0   \n",
       "21   2021-07-22 00:00:00          211.0           2423.0        211.0   \n",
       "32   2021-07-31 00:00:00          211.2           3409.0        363.0   \n",
       "..                   ...            ...              ...          ...   \n",
       "485  2022-09-01 00:00:00          224.4           3315.0        395.0   \n",
       "486  2022-09-02 00:00:00          224.0           3554.0        396.0   \n",
       "490  2022-09-05 00:00:00          224.4           2802.0        367.0   \n",
       "491  2022-09-06 00:00:00          223.5           3269.0        433.0   \n",
       "492  2022-09-07 00:00:00          223.4           3204.0        349.0   \n",
       "\n",
       "    Tracked Fat Tracked Protein Eat Out (Y/N)?  Hours of quality sleep  \\\n",
       "0         100.0           200.0              N                     5.0   \n",
       "14         80.0           208.0              N                     4.0   \n",
       "17         97.0           203.0              N                     4.0   \n",
       "21         91.0           188.0              N                     4.0   \n",
       "32        113.0           234.0              N                     4.0   \n",
       "..          ...             ...            ...                     ...   \n",
       "485        87.0           240.0              N                     9.0   \n",
       "486        98.0           273.0              N                     7.0   \n",
       "490        60.0           209.0              N                     8.0   \n",
       "491        59.0           260.0              N                     6.0   \n",
       "492        94.0           238.0              N                     9.0   \n",
       "\n",
       "    Goal Calories Goal Carb Goal Fat Goal Protein  \n",
       "0            3400     405.0    100.0        220.0  \n",
       "14           3400     405.0    100.0        220.0  \n",
       "17           3170     370.0     90.0        220.0  \n",
       "21           3170     370.0     90.0        220.0  \n",
       "32           3170     370.0     90.0        220.0  \n",
       "..            ...       ...      ...          ...  \n",
       "485          3400     380.0    100.0        245.0  \n",
       "486          3400     380.0    100.0        245.0  \n",
       "490          3400     380.0    100.0        245.0  \n",
       "491          3400     380.0    100.0        245.0  \n",
       "492          3400     380.0    100.0        245.0  \n",
       "\n",
       "[108 rows x 12 columns]"
      ]
     },
     "execution_count": 17,
     "metadata": {},
     "output_type": "execute_result"
    }
   ],
   "source": [
    "bodycomp_df_clean"
   ]
  },
  {
   "cell_type": "markdown",
   "id": "0ced0948",
   "metadata": {},
   "source": [
    "<h3>Reset Indexes"
   ]
  },
  {
   "cell_type": "code",
   "execution_count": 18,
   "id": "68a43d3b",
   "metadata": {},
   "outputs": [],
   "source": [
    "bodycomp_df_clean = bodycomp_df_clean.reset_index()"
   ]
  },
  {
   "cell_type": "code",
   "execution_count": 19,
   "id": "1b732442",
   "metadata": {
    "collapsed": true
   },
   "outputs": [
    {
     "data": {
      "text/html": [
       "<div>\n",
       "<style scoped>\n",
       "    .dataframe tbody tr th:only-of-type {\n",
       "        vertical-align: middle;\n",
       "    }\n",
       "\n",
       "    .dataframe tbody tr th {\n",
       "        vertical-align: top;\n",
       "    }\n",
       "\n",
       "    .dataframe thead th {\n",
       "        text-align: right;\n",
       "    }\n",
       "</style>\n",
       "<table border=\"1\" class=\"dataframe\">\n",
       "  <thead>\n",
       "    <tr style=\"text-align: right;\">\n",
       "      <th></th>\n",
       "      <th>index</th>\n",
       "      <th>Date</th>\n",
       "      <th>Weight (lb/kg)</th>\n",
       "      <th>Tracked Calories</th>\n",
       "      <th>Tracked Carb</th>\n",
       "      <th>Tracked Fat</th>\n",
       "      <th>Tracked Protein</th>\n",
       "      <th>Eat Out (Y/N)?</th>\n",
       "      <th>Hours of quality sleep</th>\n",
       "      <th>Goal Calories</th>\n",
       "      <th>Goal Carb</th>\n",
       "      <th>Goal Fat</th>\n",
       "      <th>Goal Protein</th>\n",
       "    </tr>\n",
       "  </thead>\n",
       "  <tbody>\n",
       "    <tr>\n",
       "      <th>0</th>\n",
       "      <td>0</td>\n",
       "      <td>2021-07-03 00:00:00</td>\n",
       "      <td>210.0</td>\n",
       "      <td>3400.0</td>\n",
       "      <td>405.0</td>\n",
       "      <td>100.0</td>\n",
       "      <td>200.0</td>\n",
       "      <td>N</td>\n",
       "      <td>5.0</td>\n",
       "      <td>3400</td>\n",
       "      <td>405.0</td>\n",
       "      <td>100.0</td>\n",
       "      <td>220.0</td>\n",
       "    </tr>\n",
       "    <tr>\n",
       "      <th>1</th>\n",
       "      <td>14</td>\n",
       "      <td>2021-07-16 00:00:00</td>\n",
       "      <td>212.2</td>\n",
       "      <td>3102.0</td>\n",
       "      <td>399.0</td>\n",
       "      <td>80.0</td>\n",
       "      <td>208.0</td>\n",
       "      <td>N</td>\n",
       "      <td>4.0</td>\n",
       "      <td>3400</td>\n",
       "      <td>405.0</td>\n",
       "      <td>100.0</td>\n",
       "      <td>220.0</td>\n",
       "    </tr>\n",
       "    <tr>\n",
       "      <th>2</th>\n",
       "      <td>17</td>\n",
       "      <td>2021-07-18 00:00:00</td>\n",
       "      <td>211.6</td>\n",
       "      <td>3337.0</td>\n",
       "      <td>381.0</td>\n",
       "      <td>97.0</td>\n",
       "      <td>203.0</td>\n",
       "      <td>N</td>\n",
       "      <td>4.0</td>\n",
       "      <td>3170</td>\n",
       "      <td>370.0</td>\n",
       "      <td>90.0</td>\n",
       "      <td>220.0</td>\n",
       "    </tr>\n",
       "    <tr>\n",
       "      <th>3</th>\n",
       "      <td>21</td>\n",
       "      <td>2021-07-22 00:00:00</td>\n",
       "      <td>211.0</td>\n",
       "      <td>2423.0</td>\n",
       "      <td>211.0</td>\n",
       "      <td>91.0</td>\n",
       "      <td>188.0</td>\n",
       "      <td>N</td>\n",
       "      <td>4.0</td>\n",
       "      <td>3170</td>\n",
       "      <td>370.0</td>\n",
       "      <td>90.0</td>\n",
       "      <td>220.0</td>\n",
       "    </tr>\n",
       "    <tr>\n",
       "      <th>4</th>\n",
       "      <td>32</td>\n",
       "      <td>2021-07-31 00:00:00</td>\n",
       "      <td>211.2</td>\n",
       "      <td>3409.0</td>\n",
       "      <td>363.0</td>\n",
       "      <td>113.0</td>\n",
       "      <td>234.0</td>\n",
       "      <td>N</td>\n",
       "      <td>4.0</td>\n",
       "      <td>3170</td>\n",
       "      <td>370.0</td>\n",
       "      <td>90.0</td>\n",
       "      <td>220.0</td>\n",
       "    </tr>\n",
       "    <tr>\n",
       "      <th>...</th>\n",
       "      <td>...</td>\n",
       "      <td>...</td>\n",
       "      <td>...</td>\n",
       "      <td>...</td>\n",
       "      <td>...</td>\n",
       "      <td>...</td>\n",
       "      <td>...</td>\n",
       "      <td>...</td>\n",
       "      <td>...</td>\n",
       "      <td>...</td>\n",
       "      <td>...</td>\n",
       "      <td>...</td>\n",
       "      <td>...</td>\n",
       "    </tr>\n",
       "    <tr>\n",
       "      <th>103</th>\n",
       "      <td>485</td>\n",
       "      <td>2022-09-01 00:00:00</td>\n",
       "      <td>224.4</td>\n",
       "      <td>3315.0</td>\n",
       "      <td>395.0</td>\n",
       "      <td>87.0</td>\n",
       "      <td>240.0</td>\n",
       "      <td>N</td>\n",
       "      <td>9.0</td>\n",
       "      <td>3400</td>\n",
       "      <td>380.0</td>\n",
       "      <td>100.0</td>\n",
       "      <td>245.0</td>\n",
       "    </tr>\n",
       "    <tr>\n",
       "      <th>104</th>\n",
       "      <td>486</td>\n",
       "      <td>2022-09-02 00:00:00</td>\n",
       "      <td>224.0</td>\n",
       "      <td>3554.0</td>\n",
       "      <td>396.0</td>\n",
       "      <td>98.0</td>\n",
       "      <td>273.0</td>\n",
       "      <td>N</td>\n",
       "      <td>7.0</td>\n",
       "      <td>3400</td>\n",
       "      <td>380.0</td>\n",
       "      <td>100.0</td>\n",
       "      <td>245.0</td>\n",
       "    </tr>\n",
       "    <tr>\n",
       "      <th>105</th>\n",
       "      <td>490</td>\n",
       "      <td>2022-09-05 00:00:00</td>\n",
       "      <td>224.4</td>\n",
       "      <td>2802.0</td>\n",
       "      <td>367.0</td>\n",
       "      <td>60.0</td>\n",
       "      <td>209.0</td>\n",
       "      <td>N</td>\n",
       "      <td>8.0</td>\n",
       "      <td>3400</td>\n",
       "      <td>380.0</td>\n",
       "      <td>100.0</td>\n",
       "      <td>245.0</td>\n",
       "    </tr>\n",
       "    <tr>\n",
       "      <th>106</th>\n",
       "      <td>491</td>\n",
       "      <td>2022-09-06 00:00:00</td>\n",
       "      <td>223.5</td>\n",
       "      <td>3269.0</td>\n",
       "      <td>433.0</td>\n",
       "      <td>59.0</td>\n",
       "      <td>260.0</td>\n",
       "      <td>N</td>\n",
       "      <td>6.0</td>\n",
       "      <td>3400</td>\n",
       "      <td>380.0</td>\n",
       "      <td>100.0</td>\n",
       "      <td>245.0</td>\n",
       "    </tr>\n",
       "    <tr>\n",
       "      <th>107</th>\n",
       "      <td>492</td>\n",
       "      <td>2022-09-07 00:00:00</td>\n",
       "      <td>223.4</td>\n",
       "      <td>3204.0</td>\n",
       "      <td>349.0</td>\n",
       "      <td>94.0</td>\n",
       "      <td>238.0</td>\n",
       "      <td>N</td>\n",
       "      <td>9.0</td>\n",
       "      <td>3400</td>\n",
       "      <td>380.0</td>\n",
       "      <td>100.0</td>\n",
       "      <td>245.0</td>\n",
       "    </tr>\n",
       "  </tbody>\n",
       "</table>\n",
       "<p>108 rows × 13 columns</p>\n",
       "</div>"
      ],
      "text/plain": [
       "     index                 Date Weight (lb/kg) Tracked Calories Tracked Carb  \\\n",
       "0        0  2021-07-03 00:00:00          210.0           3400.0        405.0   \n",
       "1       14  2021-07-16 00:00:00          212.2           3102.0        399.0   \n",
       "2       17  2021-07-18 00:00:00          211.6           3337.0        381.0   \n",
       "3       21  2021-07-22 00:00:00          211.0           2423.0        211.0   \n",
       "4       32  2021-07-31 00:00:00          211.2           3409.0        363.0   \n",
       "..     ...                  ...            ...              ...          ...   \n",
       "103    485  2022-09-01 00:00:00          224.4           3315.0        395.0   \n",
       "104    486  2022-09-02 00:00:00          224.0           3554.0        396.0   \n",
       "105    490  2022-09-05 00:00:00          224.4           2802.0        367.0   \n",
       "106    491  2022-09-06 00:00:00          223.5           3269.0        433.0   \n",
       "107    492  2022-09-07 00:00:00          223.4           3204.0        349.0   \n",
       "\n",
       "    Tracked Fat Tracked Protein Eat Out (Y/N)?  Hours of quality sleep  \\\n",
       "0         100.0           200.0              N                     5.0   \n",
       "1          80.0           208.0              N                     4.0   \n",
       "2          97.0           203.0              N                     4.0   \n",
       "3          91.0           188.0              N                     4.0   \n",
       "4         113.0           234.0              N                     4.0   \n",
       "..          ...             ...            ...                     ...   \n",
       "103        87.0           240.0              N                     9.0   \n",
       "104        98.0           273.0              N                     7.0   \n",
       "105        60.0           209.0              N                     8.0   \n",
       "106        59.0           260.0              N                     6.0   \n",
       "107        94.0           238.0              N                     9.0   \n",
       "\n",
       "    Goal Calories Goal Carb Goal Fat Goal Protein  \n",
       "0            3400     405.0    100.0        220.0  \n",
       "1            3400     405.0    100.0        220.0  \n",
       "2            3170     370.0     90.0        220.0  \n",
       "3            3170     370.0     90.0        220.0  \n",
       "4            3170     370.0     90.0        220.0  \n",
       "..            ...       ...      ...          ...  \n",
       "103          3400     380.0    100.0        245.0  \n",
       "104          3400     380.0    100.0        245.0  \n",
       "105          3400     380.0    100.0        245.0  \n",
       "106          3400     380.0    100.0        245.0  \n",
       "107          3400     380.0    100.0        245.0  \n",
       "\n",
       "[108 rows x 13 columns]"
      ]
     },
     "execution_count": 19,
     "metadata": {},
     "output_type": "execute_result"
    }
   ],
   "source": [
    "bodycomp_df_clean"
   ]
  },
  {
   "cell_type": "markdown",
   "id": "98bdc03e",
   "metadata": {},
   "source": [
    "With the Data Frame finally clean, we can run start gathering stats"
   ]
  },
  {
   "cell_type": "markdown",
   "id": "08feb2a1",
   "metadata": {},
   "source": [
    "<h1>Macro Analysis"
   ]
  },
  {
   "cell_type": "markdown",
   "id": "04932cce",
   "metadata": {},
   "source": [
    "<h4> Total Days Tracking Macros"
   ]
  },
  {
   "cell_type": "code",
   "execution_count": 20,
   "id": "096a8443",
   "metadata": {},
   "outputs": [
    {
     "data": {
      "text/plain": [
       "108"
      ]
     },
     "execution_count": 20,
     "metadata": {},
     "output_type": "execute_result"
    }
   ],
   "source": [
    "len(bodycomp_df_clean.index)"
   ]
  },
  {
   "cell_type": "markdown",
   "id": "a73c65c4",
   "metadata": {},
   "source": [
    "<h4>Average Days Fully Tracking Macros Since Start Date"
   ]
  },
  {
   "cell_type": "code",
   "execution_count": 37,
   "id": "01ea334a",
   "metadata": {},
   "outputs": [
    {
     "name": "stdout",
     "output_type": "stream",
     "text": [
      "Total days since I started: 520\n",
      "Total days I tracked everything: 108\n",
      "On average, I completely tracked about 5 days every week\n"
     ]
    }
   ],
   "source": [
    "bodycomp_df_unclean = bodycomp_df_unclean[bodycomp_df != 'AVG']\n",
    "avg_tracked = int(len(bodycomp_df_unclean.index)) / int(len(bodycomp_df_clean.index))\n",
    "print('Total days since I started:', len(bodycomp_df_unclean.index))\n",
    "print('Total days I tracked everything:', len(bodycomp_df_clean.index))\n",
    "print('On average, I completely tracked about', round(avg_tracked), 'days every week')"
   ]
  },
  {
   "cell_type": "markdown",
   "id": "fefc16ea",
   "metadata": {},
   "source": [
    "<h4> Average Calorie, Protein, Fat, Carb Intake (g)"
   ]
  },
  {
   "cell_type": "code",
   "execution_count": 29,
   "id": "93195cdd",
   "metadata": {},
   "outputs": [
    {
     "name": "stdout",
     "output_type": "stream",
     "text": [
      "Calories: 3491 Protein: 237 Fat: 90 Carb: 434\n"
     ]
    }
   ],
   "source": [
    "print(\n",
    "'Calories:',int(bodycomp_df_clean['Tracked Calories'].mean()),\n",
    "'Protein:',int(bodycomp_df_clean['Tracked Protein'].mean()),\n",
    "'Fat:',int(bodycomp_df_clean['Tracked Fat'].mean()),\n",
    "'Carb:',int(bodycomp_df_clean['Tracked Carb'].mean()))"
   ]
  },
  {
   "cell_type": "code",
   "execution_count": 34,
   "id": "e3363ef3",
   "metadata": {
    "scrolled": true
   },
   "outputs": [
    {
     "data": {
      "image/png": "[encoded data removed]",
      "text/plain": [
       "<Figure size 864x576 with 2 Axes>"
      ]
     },
     "metadata": {},
     "output_type": "display_data"
    }
   ],
   "source": [
    "tracked_macros = np.array([bodycomp_df_clean['Tracked Carb'].mean(),bodycomp_df_clean['Tracked Fat'].mean(),bodycomp_df_clean['Tracked Protein'].mean()])\n",
    "goal_macros = np.array([bodycomp_df_clean['Goal Carb'].mean(),bodycomp_df_clean['Goal Fat'].mean(),bodycomp_df_clean['Goal Protein'].mean()])\n",
    "labels1 = ['Tracked Carb','Tracked Fat','Tracked Protein']\n",
    "labels2 = ['Goal Carb','Goal Fat','Goal Protein']\n",
    "\n",
    "fig, ax = plt.subplots(nrows = 1, ncols = 2, figsize = (12,8))\n",
    "\n",
    "ax[0].pie(tracked_macros, labels = labels1, autopct = '%1.1f%%', shadow = True, startangle=90, textprops={'fontsize': 18})\n",
    "ax[0].set_title('Average Tracked Macros', fontsize =20)\n",
    "ax[1].pie(goal_macros, labels = labels2, autopct = '%1.1f%%', shadow = True, startangle=90, textprops={'fontsize': 18})\n",
    "ax[1].set_title('Average Goal Macros', fontsize =20)\n",
    "\n",
    "plt.show()"
   ]
  },
  {
   "cell_type": "markdown",
   "id": "1e26dff2",
   "metadata": {},
   "source": [
    "<h4> On Average How Many Times Did I Miss the Protein Intake"
   ]
  },
  {
   "cell_type": "code",
   "execution_count": 30,
   "id": "88f806bc",
   "metadata": {},
   "outputs": [
    {
     "data": {
      "text/plain": [
       "2.4"
      ]
     },
     "execution_count": 30,
     "metadata": {},
     "output_type": "execute_result"
    }
   ],
   "source": [
    "len(bodycomp_df_clean)/(len(bodycomp_df_clean[bodycomp_df_clean['Tracked Protein'] <= bodycomp_df_clean['Goal Protein']]))"
   ]
  },
  {
   "cell_type": "markdown",
   "id": "61f2f51f",
   "metadata": {},
   "source": [
    "<h4> Plotting Macro Intake Over Time"
   ]
  },
  {
   "cell_type": "code",
   "execution_count": 32,
   "id": "a6814f33",
   "metadata": {
    "scrolled": true
   },
   "outputs": [
    {
     "data": {
      "image/png": "[encoded data removed]",
      "text/plain": [
       "<Figure size 720x432 with 1 Axes>"
      ]
     },
     "metadata": {
      "needs_background": "light"
     },
     "output_type": "display_data"
    }
   ],
   "source": [
    "fig = plt.figure(figsize = (10,6))\n",
    "\n",
    "axes = fig.add_axes([0.1,0.1,0.8,0.8])\n",
    "\n",
    "axes.plot(bodycomp_df_clean['Date'], bodycomp_df_clean['Tracked Protein'], label = 'Protein', lw =2)\n",
    "axes.plot(bodycomp_df_clean['Date'], bodycomp_df_clean['Tracked Fat'], label = 'Fat', lw =2)\n",
    "axes.plot(bodycomp_df_clean['Date'], bodycomp_df_clean['Tracked Carb'], label = 'Carb', lw =2)\n",
    "\n",
    "axes.set_xlabel('Time', fontsize =14)\n",
    "axes.set_ylabel('Protein, Fat, Carb (g)', fontsize =14)\n",
    "axes.set_title('Plotting Carbs, Fats, and Protein over Time', fontsize =20)\n",
    "\n",
    "axes.legend(bbox_to_anchor = (1.05,0.7))\n",
    "\n",
    "plt.show()"
   ]
  },
  {
   "cell_type": "code",
   "execution_count": 33,
   "id": "b8a364b7",
   "metadata": {
    "scrolled": true
   },
   "outputs": [
    {
     "data": {
      "application/vnd.plotly.v1+json": {
       "config": {
        "linkText": "Export to plot.ly",
        "plotlyServerURL": "https://plot.ly",
        "showLink": true
       },
       "data": [
        {
         "line": {
          "color": "rgba(255, 153, 51, 1.0)",
          "dash": "solid",
          "shape": "linear",
          "width": 1.3
         },
         "mode": "lines",
         "name": "Tracked Protein",
         "text": "",
         "type": "scatter",
         "x": [
          "2021-07-03",
          "2021-07-16",
          "2021-07-18",
          "2021-07-22",
          "2021-07-31",
          "2021-08-01",
          "2021-09-09",
          "2021-12-13",
          "2021-12-14",
          "2021-12-15",
          "2021-12-16",
          "2021-12-17",
          "2021-12-20",
          "2021-12-21",
          "2021-12-22",
          "2022-01-05",
          "2022-01-06",
          "2022-01-15",
          "2022-01-16",
          "2022-01-17",
          "2022-01-18",
          "2022-01-20",
          "2022-01-21",
          "2022-01-24",
          "2022-01-26",
          "2022-01-27",
          "2022-01-28",
          "2022-01-29",
          "2022-01-30",
          "2022-01-31",
          "2022-02-01",
          "2022-02-16",
          "2022-02-17",
          "2022-02-18",
          "2022-02-19",
          "2022-02-20",
          "2022-02-21",
          "2022-02-22",
          "2022-02-23",
          "2022-02-24",
          "2022-02-25",
          "2022-02-28",
          "2022-03-01",
          "2022-03-02",
          "2022-03-03",
          "2022-03-07",
          "2022-03-08",
          "2022-03-09",
          "2022-03-23",
          "2022-03-24",
          "2022-03-26",
          "2022-03-28",
          "2022-03-29",
          "2022-03-30",
          "2022-03-31",
          "2022-04-04",
          "2022-04-05",
          "2022-04-06",
          "2022-04-09",
          "2022-04-11",
          "2022-04-12",
          "2022-04-13",
          "2022-04-14",
          "2022-04-15",
          "2022-04-19",
          "2022-04-20",
          "2022-04-21",
          "2022-04-25",
          "2022-04-26",
          "2022-04-27",
          "2022-04-28",
          "2022-05-17",
          "2022-05-18",
          "2022-05-19",
          "2022-05-23",
          "2022-05-24",
          "2022-05-25",
          "2022-05-26",
          "2022-06-13",
          "2022-06-14",
          "2022-06-15",
          "2022-06-16",
          "2022-06-17",
          "2022-07-05",
          "2022-07-06",
          "2022-07-07",
          "2022-07-08",
          "2022-07-09",
          "2022-07-10",
          "2022-07-11",
          "2022-07-12",
          "2022-07-13",
          "2022-08-01",
          "2022-08-02",
          "2022-08-03",
          "2022-08-04",
          "2022-08-08",
          "2022-08-10",
          "2022-08-11",
          "2022-08-22",
          "2022-08-24",
          "2022-08-30",
          "2022-08-31",
          "2022-09-01",
          "2022-09-02",
          "2022-09-05",
          "2022-09-06",
          "2022-09-07"
         ],
         "y": [
          200,
          208,
          203,
          188,
          234,
          233,
          223,
          251,
          239,
          240,
          227,
          221,
          220,
          220,
          243,
          227,
          227,
          224,
          233,
          224,
          225,
          238,
          227,
          211,
          224,
          220,
          224,
          225,
          225,
          235,
          227,
          248,
          235,
          237,
          232,
          245,
          248,
          242,
          242,
          238,
          205,
          248,
          250,
          242,
          243,
          257,
          253,
          248,
          251,
          244,
          235,
          254,
          244,
          233,
          228,
          221,
          255,
          261,
          244,
          250,
          248,
          253,
          234,
          256,
          225,
          238,
          256,
          246,
          248,
          242,
          224,
          263,
          246,
          258,
          238,
          241,
          241,
          245,
          232,
          237,
          244,
          237,
          237,
          223,
          238,
          238,
          225,
          240,
          222,
          238,
          243,
          265,
          223,
          262,
          254,
          239,
          224,
          250,
          266,
          252,
          242,
          251,
          251,
          240,
          273,
          209,
          260,
          238
         ]
        },
        {
         "line": {
          "color": "rgba(55, 128, 191, 1.0)",
          "dash": "solid",
          "shape": "linear",
          "width": 1.3
         },
         "mode": "lines",
         "name": "Tracked Fat",
         "text": "",
         "type": "scatter",
         "x": [
          "2021-07-03",
          "2021-07-16",
          "2021-07-18",
          "2021-07-22",
          "2021-07-31",
          "2021-08-01",
          "2021-09-09",
          "2021-12-13",
          "2021-12-14",
          "2021-12-15",
          "2021-12-16",
          "2021-12-17",
          "2021-12-20",
          "2021-12-21",
          "2021-12-22",
          "2022-01-05",
          "2022-01-06",
          "2022-01-15",
          "2022-01-16",
          "2022-01-17",
          "2022-01-18",
          "2022-01-20",
          "2022-01-21",
          "2022-01-24",
          "2022-01-26",
          "2022-01-27",
          "2022-01-28",
          "2022-01-29",
          "2022-01-30",
          "2022-01-31",
          "2022-02-01",
          "2022-02-16",
          "2022-02-17",
          "2022-02-18",
          "2022-02-19",
          "2022-02-20",
          "2022-02-21",
          "2022-02-22",
          "2022-02-23",
          "2022-02-24",
          "2022-02-25",
          "2022-02-28",
          "2022-03-01",
          "2022-03-02",
          "2022-03-03",
          "2022-03-07",
          "2022-03-08",
          "2022-03-09",
          "2022-03-23",
          "2022-03-24",
          "2022-03-26",
          "2022-03-28",
          "2022-03-29",
          "2022-03-30",
          "2022-03-31",
          "2022-04-04",
          "2022-04-05",
          "2022-04-06",
          "2022-04-09",
          "2022-04-11",
          "2022-04-12",
          "2022-04-13",
          "2022-04-14",
          "2022-04-15",
          "2022-04-19",
          "2022-04-20",
          "2022-04-21",
          "2022-04-25",
          "2022-04-26",
          "2022-04-27",
          "2022-04-28",
          "2022-05-17",
          "2022-05-18",
          "2022-05-19",
          "2022-05-23",
          "2022-05-24",
          "2022-05-25",
          "2022-05-26",
          "2022-06-13",
          "2022-06-14",
          "2022-06-15",
          "2022-06-16",
          "2022-06-17",
          "2022-07-05",
          "2022-07-06",
          "2022-07-07",
          "2022-07-08",
          "2022-07-09",
          "2022-07-10",
          "2022-07-11",
          "2022-07-12",
          "2022-07-13",
          "2022-08-01",
          "2022-08-02",
          "2022-08-03",
          "2022-08-04",
          "2022-08-08",
          "2022-08-10",
          "2022-08-11",
          "2022-08-22",
          "2022-08-24",
          "2022-08-30",
          "2022-08-31",
          "2022-09-01",
          "2022-09-02",
          "2022-09-05",
          "2022-09-06",
          "2022-09-07"
         ],
         "y": [
          100,
          80,
          97,
          91,
          113,
          101,
          65,
          85,
          77,
          85,
          85,
          99,
          104,
          97,
          98,
          85,
          82,
          79,
          72,
          87,
          96,
          81,
          67,
          83,
          89,
          93,
          85,
          90,
          92,
          88,
          99,
          99,
          106,
          95,
          93,
          95,
          97,
          90,
          100,
          88,
          70,
          71,
          80,
          94,
          87,
          100,
          113,
          108,
          85,
          98,
          83,
          92,
          110,
          128,
          95,
          93,
          81,
          83,
          105,
          76,
          79,
          95,
          77,
          105,
          99,
          105,
          95,
          98,
          95,
          94,
          85,
          95,
          91,
          90,
          71,
          99,
          116,
          86,
          65,
          74,
          71,
          73,
          96,
          80,
          86,
          69,
          85,
          85,
          109,
          74,
          122,
          99,
          132,
          84,
          82,
          108,
          81,
          79,
          98,
          93,
          70,
          92,
          129,
          87,
          98,
          60,
          59,
          94
         ]
        },
        {
         "line": {
          "color": "rgba(50, 171, 96, 1.0)",
          "dash": "solid",
          "shape": "linear",
          "width": 1.3
         },
         "mode": "lines",
         "name": "Tracked Carb",
         "text": "",
         "type": "scatter",
         "x": [
          "2021-07-03",
          "2021-07-16",
          "2021-07-18",
          "2021-07-22",
          "2021-07-31",
          "2021-08-01",
          "2021-09-09",
          "2021-12-13",
          "2021-12-14",
          "2021-12-15",
          "2021-12-16",
          "2021-12-17",
          "2021-12-20",
          "2021-12-21",
          "2021-12-22",
          "2022-01-05",
          "2022-01-06",
          "2022-01-15",
          "2022-01-16",
          "2022-01-17",
          "2022-01-18",
          "2022-01-20",
          "2022-01-21",
          "2022-01-24",
          "2022-01-26",
          "2022-01-27",
          "2022-01-28",
          "2022-01-29",
          "2022-01-30",
          "2022-01-31",
          "2022-02-01",
          "2022-02-16",
          "2022-02-17",
          "2022-02-18",
          "2022-02-19",
          "2022-02-20",
          "2022-02-21",
          "2022-02-22",
          "2022-02-23",
          "2022-02-24",
          "2022-02-25",
          "2022-02-28",
          "2022-03-01",
          "2022-03-02",
          "2022-03-03",
          "2022-03-07",
          "2022-03-08",
          "2022-03-09",
          "2022-03-23",
          "2022-03-24",
          "2022-03-26",
          "2022-03-28",
          "2022-03-29",
          "2022-03-30",
          "2022-03-31",
          "2022-04-04",
          "2022-04-05",
          "2022-04-06",
          "2022-04-09",
          "2022-04-11",
          "2022-04-12",
          "2022-04-13",
          "2022-04-14",
          "2022-04-15",
          "2022-04-19",
          "2022-04-20",
          "2022-04-21",
          "2022-04-25",
          "2022-04-26",
          "2022-04-27",
          "2022-04-28",
          "2022-05-17",
          "2022-05-18",
          "2022-05-19",
          "2022-05-23",
          "2022-05-24",
          "2022-05-25",
          "2022-05-26",
          "2022-06-13",
          "2022-06-14",
          "2022-06-15",
          "2022-06-16",
          "2022-06-17",
          "2022-07-05",
          "2022-07-06",
          "2022-07-07",
          "2022-07-08",
          "2022-07-09",
          "2022-07-10",
          "2022-07-11",
          "2022-07-12",
          "2022-07-13",
          "2022-08-01",
          "2022-08-02",
          "2022-08-03",
          "2022-08-04",
          "2022-08-08",
          "2022-08-10",
          "2022-08-11",
          "2022-08-22",
          "2022-08-24",
          "2022-08-30",
          "2022-08-31",
          "2022-09-01",
          "2022-09-02",
          "2022-09-05",
          "2022-09-06",
          "2022-09-07"
         ],
         "y": [
          405,
          399,
          381,
          211,
          363,
          308,
          335,
          394,
          474,
          453,
          410,
          390,
          365,
          401,
          435,
          428,
          452,
          405,
          402,
          424,
          399,
          404,
          391,
          447,
          427,
          424,
          399,
          380,
          336,
          408,
          459,
          429,
          464,
          422,
          472,
          490,
          474,
          520,
          514,
          505,
          423,
          450,
          481,
          457,
          462,
          456,
          463,
          474,
          465,
          490,
          454,
          523,
          558,
          537,
          458,
          412,
          499,
          507,
          467,
          503,
          483,
          461,
          511,
          479,
          425,
          512,
          472,
          448,
          470,
          490,
          427,
          493,
          431,
          468,
          432,
          427,
          420,
          486,
          474,
          446,
          422,
          400,
          467,
          416,
          420,
          324,
          424,
          329,
          517,
          397,
          381,
          394,
          400,
          456,
          437,
          488,
          332,
          425,
          482,
          427,
          516,
          407,
          351,
          395,
          396,
          367,
          433,
          349
         ]
        }
       ],
       "layout": {
        "legend": {
         "bgcolor": "#F5F6F9",
         "font": {
          "color": "#4D5663"
         }
        },
        "paper_bgcolor": "#F5F6F9",
        "plot_bgcolor": "#F5F6F9",
        "template": {
         "data": {
          "bar": [
           {
            "error_x": {
             "color": "#2a3f5f"
            },
            "error_y": {
             "color": "#2a3f5f"
            },
            "marker": {
             "line": {
              "color": "#E5ECF6",
              "width": 0.5
             },
             "pattern": {
              "fillmode": "overlay",
              "size": 10,
              "solidity": 0.2
             }
            },
            "type": "bar"
           }
          ],
          "barpolar": [
           {
            "marker": {
             "line": {
              "color": "#E5ECF6",
              "width": 0.5
             },
             "pattern": {
              "fillmode": "overlay",
              "size": 10,
              "solidity": 0.2
             }
            },
            "type": "barpolar"
           }
          ],
          "carpet": [
           {
            "aaxis": {
             "endlinecolor": "#2a3f5f",
             "gridcolor": "white",
             "linecolor": "white",
             "minorgridcolor": "white",
             "startlinecolor": "#2a3f5f"
            },
            "baxis": {
             "endlinecolor": "#2a3f5f",
             "gridcolor": "white",
             "linecolor": "white",
             "minorgridcolor": "white",
             "startlinecolor": "#2a3f5f"
            },
            "type": "carpet"
           }
          ],
          "choropleth": [
           {
            "colorbar": {
             "outlinewidth": 0,
             "ticks": ""
            },
            "type": "choropleth"
           }
          ],
          "contour": [
           {
            "colorbar": {
             "outlinewidth": 0,
             "ticks": ""
            },
            "colorscale": [
             [
              0,
              "#0d0887"
             ],
             [
              0.1111111111111111,
              "#46039f"
             ],
             [
              0.2222222222222222,
              "#7201a8"
             ],
             [
              0.3333333333333333,
              "#9c179e"
             ],
             [
              0.4444444444444444,
              "#bd3786"
             ],
             [
              0.5555555555555556,
              "#d8576b"
             ],
             [
              0.6666666666666666,
              "#ed7953"
             ],
             [
              0.7777777777777778,
              "#fb9f3a"
             ],
             [
              0.8888888888888888,
              "#fdca26"
             ],
             [
              1,
              "#f0f921"
             ]
            ],
            "type": "contour"
           }
          ],
          "contourcarpet": [
           {
            "colorbar": {
             "outlinewidth": 0,
             "ticks": ""
            },
            "type": "contourcarpet"
           }
          ],
          "heatmap": [
           {
            "colorbar": {
             "outlinewidth": 0,
             "ticks": ""
            },
            "colorscale": [
             [
              0,
              "#0d0887"
             ],
             [
              0.1111111111111111,
              "#46039f"
             ],
             [
              0.2222222222222222,
              "#7201a8"
             ],
             [
              0.3333333333333333,
              "#9c179e"
             ],
             [
              0.4444444444444444,
              "#bd3786"
             ],
             [
              0.5555555555555556,
              "#d8576b"
             ],
             [
              0.6666666666666666,
              "#ed7953"
             ],
             [
              0.7777777777777778,
              "#fb9f3a"
             ],
             [
              0.8888888888888888,
              "#fdca26"
             ],
             [
              1,
              "#f0f921"
             ]
            ],
            "type": "heatmap"
           }
          ],
          "heatmapgl": [
           {
            "colorbar": {
             "outlinewidth": 0,
             "ticks": ""
            },
            "colorscale": [
             [
              0,
              "#0d0887"
             ],
             [
              0.1111111111111111,
              "#46039f"
             ],
             [
              0.2222222222222222,
              "#7201a8"
             ],
             [
              0.3333333333333333,
              "#9c179e"
             ],
             [
              0.4444444444444444,
              "#bd3786"
             ],
             [
              0.5555555555555556,
              "#d8576b"
             ],
             [
              0.6666666666666666,
              "#ed7953"
             ],
             [
              0.7777777777777778,
              "#fb9f3a"
             ],
             [
              0.8888888888888888,
              "#fdca26"
             ],
             [
              1,
              "#f0f921"
             ]
            ],
            "type": "heatmapgl"
           }
          ],
          "histogram": [
           {
            "marker": {
             "pattern": {
              "fillmode": "overlay",
              "size": 10,
              "solidity": 0.2
             }
            },
            "type": "histogram"
           }
          ],
          "histogram2d": [
           {
            "colorbar": {
             "outlinewidth": 0,
             "ticks": ""
            },
            "colorscale": [
             [
              0,
              "#0d0887"
             ],
             [
              0.1111111111111111,
              "#46039f"
             ],
             [
              0.2222222222222222,
              "#7201a8"
             ],
             [
              0.3333333333333333,
              "#9c179e"
             ],
             [
              0.4444444444444444,
              "#bd3786"
             ],
             [
              0.5555555555555556,
              "#d8576b"
             ],
             [
              0.6666666666666666,
              "#ed7953"
             ],
             [
              0.7777777777777778,
              "#fb9f3a"
             ],
             [
              0.8888888888888888,
              "#fdca26"
             ],
             [
              1,
              "#f0f921"
             ]
            ],
            "type": "histogram2d"
           }
          ],
          "histogram2dcontour": [
           {
            "colorbar": {
             "outlinewidth": 0,
             "ticks": ""
            },
            "colorscale": [
             [
              0,
              "#0d0887"
             ],
             [
              0.1111111111111111,
              "#46039f"
             ],
             [
              0.2222222222222222,
              "#7201a8"
             ],
             [
              0.3333333333333333,
              "#9c179e"
             ],
             [
              0.4444444444444444,
              "#bd3786"
             ],
             [
              0.5555555555555556,
              "#d8576b"
             ],
             [
              0.6666666666666666,
              "#ed7953"
             ],
             [
              0.7777777777777778,
              "#fb9f3a"
             ],
             [
              0.8888888888888888,
              "#fdca26"
             ],
             [
              1,
              "#f0f921"
             ]
            ],
            "type": "histogram2dcontour"
           }
          ],
          "mesh3d": [
           {
            "colorbar": {
             "outlinewidth": 0,
             "ticks": ""
            },
            "type": "mesh3d"
           }
          ],
          "parcoords": [
           {
            "line": {
             "colorbar": {
              "outlinewidth": 0,
              "ticks": ""
             }
            },
            "type": "parcoords"
           }
          ],
          "pie": [
           {
            "automargin": true,
            "type": "pie"
           }
          ],
          "scatter": [
           {
            "marker": {
             "colorbar": {
              "outlinewidth": 0,
              "ticks": ""
             }
            },
            "type": "scatter"
           }
          ],
          "scatter3d": [
           {
            "line": {
             "colorbar": {
              "outlinewidth": 0,
              "ticks": ""
             }
            },
            "marker": {
             "colorbar": {
              "outlinewidth": 0,
              "ticks": ""
             }
            },
            "type": "scatter3d"
           }
          ],
          "scattercarpet": [
           {
            "marker": {
             "colorbar": {
              "outlinewidth": 0,
              "ticks": ""
             }
            },
            "type": "scattercarpet"
           }
          ],
          "scattergeo": [
           {
            "marker": {
             "colorbar": {
              "outlinewidth": 0,
              "ticks": ""
             }
            },
            "type": "scattergeo"
           }
          ],
          "scattergl": [
           {
            "marker": {
             "colorbar": {
              "outlinewidth": 0,
              "ticks": ""
             }
            },
            "type": "scattergl"
           }
          ],
          "scattermapbox": [
           {
            "marker": {
             "colorbar": {
              "outlinewidth": 0,
              "ticks": ""
             }
            },
            "type": "scattermapbox"
           }
          ],
          "scatterpolar": [
           {
            "marker": {
             "colorbar": {
              "outlinewidth": 0,
              "ticks": ""
             }
            },
            "type": "scatterpolar"
           }
          ],
          "scatterpolargl": [
           {
            "marker": {
             "colorbar": {
              "outlinewidth": 0,
              "ticks": ""
             }
            },
            "type": "scatterpolargl"
           }
          ],
          "scatterternary": [
           {
            "marker": {
             "colorbar": {
              "outlinewidth": 0,
              "ticks": ""
             }
            },
            "type": "scatterternary"
           }
          ],
          "surface": [
           {
            "colorbar": {
             "outlinewidth": 0,
             "ticks": ""
            },
            "colorscale": [
             [
              0,
              "#0d0887"
             ],
             [
              0.1111111111111111,
              "#46039f"
             ],
             [
              0.2222222222222222,
              "#7201a8"
             ],
             [
              0.3333333333333333,
              "#9c179e"
             ],
             [
              0.4444444444444444,
              "#bd3786"
             ],
             [
              0.5555555555555556,
              "#d8576b"
             ],
             [
              0.6666666666666666,
              "#ed7953"
             ],
             [
              0.7777777777777778,
              "#fb9f3a"
             ],
             [
              0.8888888888888888,
              "#fdca26"
             ],
             [
              1,
              "#f0f921"
             ]
            ],
            "type": "surface"
           }
          ],
          "table": [
           {
            "cells": {
             "fill": {
              "color": "#EBF0F8"
             },
             "line": {
              "color": "white"
             }
            },
            "header": {
             "fill": {
              "color": "#C8D4E3"
             },
             "line": {
              "color": "white"
             }
            },
            "type": "table"
           }
          ]
         },
         "layout": {
          "annotationdefaults": {
           "arrowcolor": "#2a3f5f",
           "arrowhead": 0,
           "arrowwidth": 1
          },
          "autotypenumbers": "strict",
          "coloraxis": {
           "colorbar": {
            "outlinewidth": 0,
            "ticks": ""
           }
          },
          "colorscale": {
           "diverging": [
            [
             0,
             "#8e0152"
            ],
            [
             0.1,
             "#c51b7d"
            ],
            [
             0.2,
             "#de77ae"
            ],
            [
             0.3,
             "#f1b6da"
            ],
            [
             0.4,
             "#fde0ef"
            ],
            [
             0.5,
             "#f7f7f7"
            ],
            [
             0.6,
             "#e6f5d0"
            ],
            [
             0.7,
             "#b8e186"
            ],
            [
             0.8,
             "#7fbc41"
            ],
            [
             0.9,
             "#4d9221"
            ],
            [
             1,
             "#276419"
            ]
           ],
           "sequential": [
            [
             0,
             "#0d0887"
            ],
            [
             0.1111111111111111,
             "#46039f"
            ],
            [
             0.2222222222222222,
             "#7201a8"
            ],
            [
             0.3333333333333333,
             "#9c179e"
            ],
            [
             0.4444444444444444,
             "#bd3786"
            ],
            [
             0.5555555555555556,
             "#d8576b"
            ],
            [
             0.6666666666666666,
             "#ed7953"
            ],
            [
             0.7777777777777778,
             "#fb9f3a"
            ],
            [
             0.8888888888888888,
             "#fdca26"
            ],
            [
             1,
             "#f0f921"
            ]
           ],
           "sequentialminus": [
            [
             0,
             "#0d0887"
            ],
            [
             0.1111111111111111,
             "#46039f"
            ],
            [
             0.2222222222222222,
             "#7201a8"
            ],
            [
             0.3333333333333333,
             "#9c179e"
            ],
            [
             0.4444444444444444,
             "#bd3786"
            ],
            [
             0.5555555555555556,
             "#d8576b"
            ],
            [
             0.6666666666666666,
             "#ed7953"
            ],
            [
             0.7777777777777778,
             "#fb9f3a"
            ],
            [
             0.8888888888888888,
             "#fdca26"
            ],
            [
             1,
             "#f0f921"
            ]
           ]
          },
          "colorway": [
           "#636efa",
           "#EF553B",
           "#00cc96",
           "#ab63fa",
           "#FFA15A",
           "#19d3f3",
           "#FF6692",
           "#B6E880",
           "#FF97FF",
           "#FECB52"
          ],
          "font": {
           "color": "#2a3f5f"
          },
          "geo": {
           "bgcolor": "white",
           "lakecolor": "white",
           "landcolor": "#E5ECF6",
           "showlakes": true,
           "showland": true,
           "subunitcolor": "white"
          },
          "hoverlabel": {
           "align": "left"
          },
          "hovermode": "closest",
          "mapbox": {
           "style": "light"
          },
          "paper_bgcolor": "white",
          "plot_bgcolor": "#E5ECF6",
          "polar": {
           "angularaxis": {
            "gridcolor": "white",
            "linecolor": "white",
            "ticks": ""
           },
           "bgcolor": "#E5ECF6",
           "radialaxis": {
            "gridcolor": "white",
            "linecolor": "white",
            "ticks": ""
           }
          },
          "scene": {
           "xaxis": {
            "backgroundcolor": "#E5ECF6",
            "gridcolor": "white",
            "gridwidth": 2,
            "linecolor": "white",
            "showbackground": true,
            "ticks": "",
            "zerolinecolor": "white"
           },
           "yaxis": {
            "backgroundcolor": "#E5ECF6",
            "gridcolor": "white",
            "gridwidth": 2,
            "linecolor": "white",
            "showbackground": true,
            "ticks": "",
            "zerolinecolor": "white"
           },
           "zaxis": {
            "backgroundcolor": "#E5ECF6",
            "gridcolor": "white",
            "gridwidth": 2,
            "linecolor": "white",
            "showbackground": true,
            "ticks": "",
            "zerolinecolor": "white"
           }
          },
          "shapedefaults": {
           "line": {
            "color": "#2a3f5f"
           }
          },
          "ternary": {
           "aaxis": {
            "gridcolor": "white",
            "linecolor": "white",
            "ticks": ""
           },
           "baxis": {
            "gridcolor": "white",
            "linecolor": "white",
            "ticks": ""
           },
           "bgcolor": "#E5ECF6",
           "caxis": {
            "gridcolor": "white",
            "linecolor": "white",
            "ticks": ""
           }
          },
          "title": {
           "x": 0.05
          },
          "xaxis": {
           "automargin": true,
           "gridcolor": "white",
           "linecolor": "white",
           "ticks": "",
           "title": {
            "standoff": 15
           },
           "zerolinecolor": "white",
           "zerolinewidth": 2
          },
          "yaxis": {
           "automargin": true,
           "gridcolor": "white",
           "linecolor": "white",
           "ticks": "",
           "title": {
            "standoff": 15
           },
           "zerolinecolor": "white",
           "zerolinewidth": 2
          }
         }
        },
        "title": {
         "font": {
          "color": "#4D5663"
         }
        },
        "xaxis": {
         "gridcolor": "#E1E5ED",
         "showgrid": true,
         "tickfont": {
          "color": "#4D5663"
         },
         "title": {
          "font": {
           "color": "#4D5663"
          },
          "text": ""
         },
         "zerolinecolor": "#E1E5ED"
        },
        "yaxis": {
         "gridcolor": "#E1E5ED",
         "showgrid": true,
         "tickfont": {
          "color": "#4D5663"
         },
         "title": {
          "font": {
           "color": "#4D5663"
          },
          "text": ""
         },
         "zerolinecolor": "#E1E5ED"
        }
       }
      },
      "text/html": [
       "<div>                            <div id=\"3b4c1e8a-908f-4dba-b427-af76a1326aaf\" class=\"plotly-graph-div\" style=\"height:525px; width:100%;\"></div>            <script type=\"text/javascript\">                require([\"plotly\"], function(Plotly) {                    window.PLOTLYENV=window.PLOTLYENV || {};\n",
       "                    window.PLOTLYENV.BASE_URL='https://plot.ly';                                    if (document.getElementById(\"3b4c1e8a-908f-4dba-b427-af76a1326aaf\")) {                    Plotly.newPlot(                        \"3b4c1e8a-908f-4dba-b427-af76a1326aaf\",                        [{\"line\":{\"color\":\"rgba(255, 153, 51, 1.0)\",\"dash\":\"solid\",\"shape\":\"linear\",\"width\":1.3},\"mode\":\"lines\",\"name\":\"Tracked Protein\",\"text\":\"\",\"x\":[\"2021-07-03\",\"2021-07-16\",\"2021-07-18\",\"2021-07-22\",\"2021-07-31\",\"2021-08-01\",\"2021-09-09\",\"2021-12-13\",\"2021-12-14\",\"2021-12-15\",\"2021-12-16\",\"2021-12-17\",\"2021-12-20\",\"2021-12-21\",\"2021-12-22\",\"2022-01-05\",\"2022-01-06\",\"2022-01-15\",\"2022-01-16\",\"2022-01-17\",\"2022-01-18\",\"2022-01-20\",\"2022-01-21\",\"2022-01-24\",\"2022-01-26\",\"2022-01-27\",\"2022-01-28\",\"2022-01-29\",\"2022-01-30\",\"2022-01-31\",\"2022-02-01\",\"2022-02-16\",\"2022-02-17\",\"2022-02-18\",\"2022-02-19\",\"2022-02-20\",\"2022-02-21\",\"2022-02-22\",\"2022-02-23\",\"2022-02-24\",\"2022-02-25\",\"2022-02-28\",\"2022-03-01\",\"2022-03-02\",\"2022-03-03\",\"2022-03-07\",\"2022-03-08\",\"2022-03-09\",\"2022-03-23\",\"2022-03-24\",\"2022-03-26\",\"2022-03-28\",\"2022-03-29\",\"2022-03-30\",\"2022-03-31\",\"2022-04-04\",\"2022-04-05\",\"2022-04-06\",\"2022-04-09\",\"2022-04-11\",\"2022-04-12\",\"2022-04-13\",\"2022-04-14\",\"2022-04-15\",\"2022-04-19\",\"2022-04-20\",\"2022-04-21\",\"2022-04-25\",\"2022-04-26\",\"2022-04-27\",\"2022-04-28\",\"2022-05-17\",\"2022-05-18\",\"2022-05-19\",\"2022-05-23\",\"2022-05-24\",\"2022-05-25\",\"2022-05-26\",\"2022-06-13\",\"2022-06-14\",\"2022-06-15\",\"2022-06-16\",\"2022-06-17\",\"2022-07-05\",\"2022-07-06\",\"2022-07-07\",\"2022-07-08\",\"2022-07-09\",\"2022-07-10\",\"2022-07-11\",\"2022-07-12\",\"2022-07-13\",\"2022-08-01\",\"2022-08-02\",\"2022-08-03\",\"2022-08-04\",\"2022-08-08\",\"2022-08-10\",\"2022-08-11\",\"2022-08-22\",\"2022-08-24\",\"2022-08-30\",\"2022-08-31\",\"2022-09-01\",\"2022-09-02\",\"2022-09-05\",\"2022-09-06\",\"2022-09-07\"],\"y\":[200.0,208.0,203.0,188.0,234.0,233.0,223.0,251.0,239.0,240.0,227.0,221.0,220.0,220.0,243.0,227.0,227.0,224.0,233.0,224.0,225.0,238.0,227.0,211.0,224.0,220.0,224.0,225.0,225.0,235.0,227.0,248.0,235.0,237.0,232.0,245.0,248.0,242.0,242.0,238.0,205.0,248.0,250.0,242.0,243.0,257.0,253.0,248.0,251.0,244.0,235.0,254.0,244.0,233.0,228.0,221.0,255.0,261.0,244.0,250.0,248.0,253.0,234.0,256.0,225.0,238.0,256.0,246.0,248.0,242.0,224.0,263.0,246.0,258.0,238.0,241.0,241.0,245.0,232.0,237.0,244.0,237.0,237.0,223.0,238.0,238.0,225.0,240.0,222.0,238.0,243.0,265.0,223.0,262.0,254.0,239.0,224.0,250.0,266.0,252.0,242.0,251.0,251.0,240.0,273.0,209.0,260.0,238.0],\"type\":\"scatter\"},{\"line\":{\"color\":\"rgba(55, 128, 191, 1.0)\",\"dash\":\"solid\",\"shape\":\"linear\",\"width\":1.3},\"mode\":\"lines\",\"name\":\"Tracked Fat\",\"text\":\"\",\"x\":[\"2021-07-03\",\"2021-07-16\",\"2021-07-18\",\"2021-07-22\",\"2021-07-31\",\"2021-08-01\",\"2021-09-09\",\"2021-12-13\",\"2021-12-14\",\"2021-12-15\",\"2021-12-16\",\"2021-12-17\",\"2021-12-20\",\"2021-12-21\",\"2021-12-22\",\"2022-01-05\",\"2022-01-06\",\"2022-01-15\",\"2022-01-16\",\"2022-01-17\",\"2022-01-18\",\"2022-01-20\",\"2022-01-21\",\"2022-01-24\",\"2022-01-26\",\"2022-01-27\",\"2022-01-28\",\"2022-01-29\",\"2022-01-30\",\"2022-01-31\",\"2022-02-01\",\"2022-02-16\",\"2022-02-17\",\"2022-02-18\",\"2022-02-19\",\"2022-02-20\",\"2022-02-21\",\"2022-02-22\",\"2022-02-23\",\"2022-02-24\",\"2022-02-25\",\"2022-02-28\",\"2022-03-01\",\"2022-03-02\",\"2022-03-03\",\"2022-03-07\",\"2022-03-08\",\"2022-03-09\",\"2022-03-23\",\"2022-03-24\",\"2022-03-26\",\"2022-03-28\",\"2022-03-29\",\"2022-03-30\",\"2022-03-31\",\"2022-04-04\",\"2022-04-05\",\"2022-04-06\",\"2022-04-09\",\"2022-04-11\",\"2022-04-12\",\"2022-04-13\",\"2022-04-14\",\"2022-04-15\",\"2022-04-19\",\"2022-04-20\",\"2022-04-21\",\"2022-04-25\",\"2022-04-26\",\"2022-04-27\",\"2022-04-28\",\"2022-05-17\",\"2022-05-18\",\"2022-05-19\",\"2022-05-23\",\"2022-05-24\",\"2022-05-25\",\"2022-05-26\",\"2022-06-13\",\"2022-06-14\",\"2022-06-15\",\"2022-06-16\",\"2022-06-17\",\"2022-07-05\",\"2022-07-06\",\"2022-07-07\",\"2022-07-08\",\"2022-07-09\",\"2022-07-10\",\"2022-07-11\",\"2022-07-12\",\"2022-07-13\",\"2022-08-01\",\"2022-08-02\",\"2022-08-03\",\"2022-08-04\",\"2022-08-08\",\"2022-08-10\",\"2022-08-11\",\"2022-08-22\",\"2022-08-24\",\"2022-08-30\",\"2022-08-31\",\"2022-09-01\",\"2022-09-02\",\"2022-09-05\",\"2022-09-06\",\"2022-09-07\"],\"y\":[100.0,80.0,97.0,91.0,113.0,101.0,65.0,85.0,77.0,85.0,85.0,99.0,104.0,97.0,98.0,85.0,82.0,79.0,72.0,87.0,96.0,81.0,67.0,83.0,89.0,93.0,85.0,90.0,92.0,88.0,99.0,99.0,106.0,95.0,93.0,95.0,97.0,90.0,100.0,88.0,70.0,71.0,80.0,94.0,87.0,100.0,113.0,108.0,85.0,98.0,83.0,92.0,110.0,128.0,95.0,93.0,81.0,83.0,105.0,76.0,79.0,95.0,77.0,105.0,99.0,105.0,95.0,98.0,95.0,94.0,85.0,95.0,91.0,90.0,71.0,99.0,116.0,86.0,65.0,74.0,71.0,73.0,96.0,80.0,86.0,69.0,85.0,85.0,109.0,74.0,122.0,99.0,132.0,84.0,82.0,108.0,81.0,79.0,98.0,93.0,70.0,92.0,129.0,87.0,98.0,60.0,59.0,94.0],\"type\":\"scatter\"},{\"line\":{\"color\":\"rgba(50, 171, 96, 1.0)\",\"dash\":\"solid\",\"shape\":\"linear\",\"width\":1.3},\"mode\":\"lines\",\"name\":\"Tracked Carb\",\"text\":\"\",\"x\":[\"2021-07-03\",\"2021-07-16\",\"2021-07-18\",\"2021-07-22\",\"2021-07-31\",\"2021-08-01\",\"2021-09-09\",\"2021-12-13\",\"2021-12-14\",\"2021-12-15\",\"2021-12-16\",\"2021-12-17\",\"2021-12-20\",\"2021-12-21\",\"2021-12-22\",\"2022-01-05\",\"2022-01-06\",\"2022-01-15\",\"2022-01-16\",\"2022-01-17\",\"2022-01-18\",\"2022-01-20\",\"2022-01-21\",\"2022-01-24\",\"2022-01-26\",\"2022-01-27\",\"2022-01-28\",\"2022-01-29\",\"2022-01-30\",\"2022-01-31\",\"2022-02-01\",\"2022-02-16\",\"2022-02-17\",\"2022-02-18\",\"2022-02-19\",\"2022-02-20\",\"2022-02-21\",\"2022-02-22\",\"2022-02-23\",\"2022-02-24\",\"2022-02-25\",\"2022-02-28\",\"2022-03-01\",\"2022-03-02\",\"2022-03-03\",\"2022-03-07\",\"2022-03-08\",\"2022-03-09\",\"2022-03-23\",\"2022-03-24\",\"2022-03-26\",\"2022-03-28\",\"2022-03-29\",\"2022-03-30\",\"2022-03-31\",\"2022-04-04\",\"2022-04-05\",\"2022-04-06\",\"2022-04-09\",\"2022-04-11\",\"2022-04-12\",\"2022-04-13\",\"2022-04-14\",\"2022-04-15\",\"2022-04-19\",\"2022-04-20\",\"2022-04-21\",\"2022-04-25\",\"2022-04-26\",\"2022-04-27\",\"2022-04-28\",\"2022-05-17\",\"2022-05-18\",\"2022-05-19\",\"2022-05-23\",\"2022-05-24\",\"2022-05-25\",\"2022-05-26\",\"2022-06-13\",\"2022-06-14\",\"2022-06-15\",\"2022-06-16\",\"2022-06-17\",\"2022-07-05\",\"2022-07-06\",\"2022-07-07\",\"2022-07-08\",\"2022-07-09\",\"2022-07-10\",\"2022-07-11\",\"2022-07-12\",\"2022-07-13\",\"2022-08-01\",\"2022-08-02\",\"2022-08-03\",\"2022-08-04\",\"2022-08-08\",\"2022-08-10\",\"2022-08-11\",\"2022-08-22\",\"2022-08-24\",\"2022-08-30\",\"2022-08-31\",\"2022-09-01\",\"2022-09-02\",\"2022-09-05\",\"2022-09-06\",\"2022-09-07\"],\"y\":[405.0,399.0,381.0,211.0,363.0,308.0,335.0,394.0,474.0,453.0,410.0,390.0,365.0,401.0,435.0,428.0,452.0,405.0,402.0,424.0,399.0,404.0,391.0,447.0,427.0,424.0,399.0,380.0,336.0,408.0,459.0,429.0,464.0,422.0,472.0,490.0,474.0,520.0,514.0,505.0,423.0,450.0,481.0,457.0,462.0,456.0,463.0,474.0,465.0,490.0,454.0,523.0,558.0,537.0,458.0,412.0,499.0,507.0,467.0,503.0,483.0,461.0,511.0,479.0,425.0,512.0,472.0,448.0,470.0,490.0,427.0,493.0,431.0,468.0,432.0,427.0,420.0,486.0,474.0,446.0,422.0,400.0,467.0,416.0,420.0,324.0,424.0,329.0,517.0,397.0,381.0,394.0,400.0,456.0,437.0,488.0,332.0,425.0,482.0,427.0,516.0,407.0,351.0,395.0,396.0,367.0,433.0,349.0],\"type\":\"scatter\"}],                        {\"legend\":{\"bgcolor\":\"#F5F6F9\",\"font\":{\"color\":\"#4D5663\"}},\"paper_bgcolor\":\"#F5F6F9\",\"plot_bgcolor\":\"#F5F6F9\",\"template\":{\"data\":{\"barpolar\":[{\"marker\":{\"line\":{\"color\":\"#E5ECF6\",\"width\":0.5},\"pattern\":{\"fillmode\":\"overlay\",\"size\":10,\"solidity\":0.2}},\"type\":\"barpolar\"}],\"bar\":[{\"error_x\":{\"color\":\"#2a3f5f\"},\"error_y\":{\"color\":\"#2a3f5f\"},\"marker\":{\"line\":{\"color\":\"#E5ECF6\",\"width\":0.5},\"pattern\":{\"fillmode\":\"overlay\",\"size\":10,\"solidity\":0.2}},\"type\":\"bar\"}],\"carpet\":[{\"aaxis\":{\"endlinecolor\":\"#2a3f5f\",\"gridcolor\":\"white\",\"linecolor\":\"white\",\"minorgridcolor\":\"white\",\"startlinecolor\":\"#2a3f5f\"},\"baxis\":{\"endlinecolor\":\"#2a3f5f\",\"gridcolor\":\"white\",\"linecolor\":\"white\",\"minorgridcolor\":\"white\",\"startlinecolor\":\"#2a3f5f\"},\"type\":\"carpet\"}],\"choropleth\":[{\"colorbar\":{\"outlinewidth\":0,\"ticks\":\"\"},\"type\":\"choropleth\"}],\"contourcarpet\":[{\"colorbar\":{\"outlinewidth\":0,\"ticks\":\"\"},\"type\":\"contourcarpet\"}],\"contour\":[{\"colorbar\":{\"outlinewidth\":0,\"ticks\":\"\"},\"colorscale\":[[0.0,\"#0d0887\"],[0.1111111111111111,\"#46039f\"],[0.2222222222222222,\"#7201a8\"],[0.3333333333333333,\"#9c179e\"],[0.4444444444444444,\"#bd3786\"],[0.5555555555555556,\"#d8576b\"],[0.6666666666666666,\"#ed7953\"],[0.7777777777777778,\"#fb9f3a\"],[0.8888888888888888,\"#fdca26\"],[1.0,\"#f0f921\"]],\"type\":\"contour\"}],\"heatmapgl\":[{\"colorbar\":{\"outlinewidth\":0,\"ticks\":\"\"},\"colorscale\":[[0.0,\"#0d0887\"],[0.1111111111111111,\"#46039f\"],[0.2222222222222222,\"#7201a8\"],[0.3333333333333333,\"#9c179e\"],[0.4444444444444444,\"#bd3786\"],[0.5555555555555556,\"#d8576b\"],[0.6666666666666666,\"#ed7953\"],[0.7777777777777778,\"#fb9f3a\"],[0.8888888888888888,\"#fdca26\"],[1.0,\"#f0f921\"]],\"type\":\"heatmapgl\"}],\"heatmap\":[{\"colorbar\":{\"outlinewidth\":0,\"ticks\":\"\"},\"colorscale\":[[0.0,\"#0d0887\"],[0.1111111111111111,\"#46039f\"],[0.2222222222222222,\"#7201a8\"],[0.3333333333333333,\"#9c179e\"],[0.4444444444444444,\"#bd3786\"],[0.5555555555555556,\"#d8576b\"],[0.6666666666666666,\"#ed7953\"],[0.7777777777777778,\"#fb9f3a\"],[0.8888888888888888,\"#fdca26\"],[1.0,\"#f0f921\"]],\"type\":\"heatmap\"}],\"histogram2dcontour\":[{\"colorbar\":{\"outlinewidth\":0,\"ticks\":\"\"},\"colorscale\":[[0.0,\"#0d0887\"],[0.1111111111111111,\"#46039f\"],[0.2222222222222222,\"#7201a8\"],[0.3333333333333333,\"#9c179e\"],[0.4444444444444444,\"#bd3786\"],[0.5555555555555556,\"#d8576b\"],[0.6666666666666666,\"#ed7953\"],[0.7777777777777778,\"#fb9f3a\"],[0.8888888888888888,\"#fdca26\"],[1.0,\"#f0f921\"]],\"type\":\"histogram2dcontour\"}],\"histogram2d\":[{\"colorbar\":{\"outlinewidth\":0,\"ticks\":\"\"},\"colorscale\":[[0.0,\"#0d0887\"],[0.1111111111111111,\"#46039f\"],[0.2222222222222222,\"#7201a8\"],[0.3333333333333333,\"#9c179e\"],[0.4444444444444444,\"#bd3786\"],[0.5555555555555556,\"#d8576b\"],[0.6666666666666666,\"#ed7953\"],[0.7777777777777778,\"#fb9f3a\"],[0.8888888888888888,\"#fdca26\"],[1.0,\"#f0f921\"]],\"type\":\"histogram2d\"}],\"histogram\":[{\"marker\":{\"pattern\":{\"fillmode\":\"overlay\",\"size\":10,\"solidity\":0.2}},\"type\":\"histogram\"}],\"mesh3d\":[{\"colorbar\":{\"outlinewidth\":0,\"ticks\":\"\"},\"type\":\"mesh3d\"}],\"parcoords\":[{\"line\":{\"colorbar\":{\"outlinewidth\":0,\"ticks\":\"\"}},\"type\":\"parcoords\"}],\"pie\":[{\"automargin\":true,\"type\":\"pie\"}],\"scatter3d\":[{\"line\":{\"colorbar\":{\"outlinewidth\":0,\"ticks\":\"\"}},\"marker\":{\"colorbar\":{\"outlinewidth\":0,\"ticks\":\"\"}},\"type\":\"scatter3d\"}],\"scattercarpet\":[{\"marker\":{\"colorbar\":{\"outlinewidth\":0,\"ticks\":\"\"}},\"type\":\"scattercarpet\"}],\"scattergeo\":[{\"marker\":{\"colorbar\":{\"outlinewidth\":0,\"ticks\":\"\"}},\"type\":\"scattergeo\"}],\"scattergl\":[{\"marker\":{\"colorbar\":{\"outlinewidth\":0,\"ticks\":\"\"}},\"type\":\"scattergl\"}],\"scattermapbox\":[{\"marker\":{\"colorbar\":{\"outlinewidth\":0,\"ticks\":\"\"}},\"type\":\"scattermapbox\"}],\"scatterpolargl\":[{\"marker\":{\"colorbar\":{\"outlinewidth\":0,\"ticks\":\"\"}},\"type\":\"scatterpolargl\"}],\"scatterpolar\":[{\"marker\":{\"colorbar\":{\"outlinewidth\":0,\"ticks\":\"\"}},\"type\":\"scatterpolar\"}],\"scatter\":[{\"marker\":{\"colorbar\":{\"outlinewidth\":0,\"ticks\":\"\"}},\"type\":\"scatter\"}],\"scatterternary\":[{\"marker\":{\"colorbar\":{\"outlinewidth\":0,\"ticks\":\"\"}},\"type\":\"scatterternary\"}],\"surface\":[{\"colorbar\":{\"outlinewidth\":0,\"ticks\":\"\"},\"colorscale\":[[0.0,\"#0d0887\"],[0.1111111111111111,\"#46039f\"],[0.2222222222222222,\"#7201a8\"],[0.3333333333333333,\"#9c179e\"],[0.4444444444444444,\"#bd3786\"],[0.5555555555555556,\"#d8576b\"],[0.6666666666666666,\"#ed7953\"],[0.7777777777777778,\"#fb9f3a\"],[0.8888888888888888,\"#fdca26\"],[1.0,\"#f0f921\"]],\"type\":\"surface\"}],\"table\":[{\"cells\":{\"fill\":{\"color\":\"#EBF0F8\"},\"line\":{\"color\":\"white\"}},\"header\":{\"fill\":{\"color\":\"#C8D4E3\"},\"line\":{\"color\":\"white\"}},\"type\":\"table\"}]},\"layout\":{\"annotationdefaults\":{\"arrowcolor\":\"#2a3f5f\",\"arrowhead\":0,\"arrowwidth\":1},\"autotypenumbers\":\"strict\",\"coloraxis\":{\"colorbar\":{\"outlinewidth\":0,\"ticks\":\"\"}},\"colorscale\":{\"diverging\":[[0,\"#8e0152\"],[0.1,\"#c51b7d\"],[0.2,\"#de77ae\"],[0.3,\"#f1b6da\"],[0.4,\"#fde0ef\"],[0.5,\"#f7f7f7\"],[0.6,\"#e6f5d0\"],[0.7,\"#b8e186\"],[0.8,\"#7fbc41\"],[0.9,\"#4d9221\"],[1,\"#276419\"]],\"sequential\":[[0.0,\"#0d0887\"],[0.1111111111111111,\"#46039f\"],[0.2222222222222222,\"#7201a8\"],[0.3333333333333333,\"#9c179e\"],[0.4444444444444444,\"#bd3786\"],[0.5555555555555556,\"#d8576b\"],[0.6666666666666666,\"#ed7953\"],[0.7777777777777778,\"#fb9f3a\"],[0.8888888888888888,\"#fdca26\"],[1.0,\"#f0f921\"]],\"sequentialminus\":[[0.0,\"#0d0887\"],[0.1111111111111111,\"#46039f\"],[0.2222222222222222,\"#7201a8\"],[0.3333333333333333,\"#9c179e\"],[0.4444444444444444,\"#bd3786\"],[0.5555555555555556,\"#d8576b\"],[0.6666666666666666,\"#ed7953\"],[0.7777777777777778,\"#fb9f3a\"],[0.8888888888888888,\"#fdca26\"],[1.0,\"#f0f921\"]]},\"colorway\":[\"#636efa\",\"#EF553B\",\"#00cc96\",\"#ab63fa\",\"#FFA15A\",\"#19d3f3\",\"#FF6692\",\"#B6E880\",\"#FF97FF\",\"#FECB52\"],\"font\":{\"color\":\"#2a3f5f\"},\"geo\":{\"bgcolor\":\"white\",\"lakecolor\":\"white\",\"landcolor\":\"#E5ECF6\",\"showlakes\":true,\"showland\":true,\"subunitcolor\":\"white\"},\"hoverlabel\":{\"align\":\"left\"},\"hovermode\":\"closest\",\"mapbox\":{\"style\":\"light\"},\"paper_bgcolor\":\"white\",\"plot_bgcolor\":\"#E5ECF6\",\"polar\":{\"angularaxis\":{\"gridcolor\":\"white\",\"linecolor\":\"white\",\"ticks\":\"\"},\"bgcolor\":\"#E5ECF6\",\"radialaxis\":{\"gridcolor\":\"white\",\"linecolor\":\"white\",\"ticks\":\"\"}},\"scene\":{\"xaxis\":{\"backgroundcolor\":\"#E5ECF6\",\"gridcolor\":\"white\",\"gridwidth\":2,\"linecolor\":\"white\",\"showbackground\":true,\"ticks\":\"\",\"zerolinecolor\":\"white\"},\"yaxis\":{\"backgroundcolor\":\"#E5ECF6\",\"gridcolor\":\"white\",\"gridwidth\":2,\"linecolor\":\"white\",\"showbackground\":true,\"ticks\":\"\",\"zerolinecolor\":\"white\"},\"zaxis\":{\"backgroundcolor\":\"#E5ECF6\",\"gridcolor\":\"white\",\"gridwidth\":2,\"linecolor\":\"white\",\"showbackground\":true,\"ticks\":\"\",\"zerolinecolor\":\"white\"}},\"shapedefaults\":{\"line\":{\"color\":\"#2a3f5f\"}},\"ternary\":{\"aaxis\":{\"gridcolor\":\"white\",\"linecolor\":\"white\",\"ticks\":\"\"},\"baxis\":{\"gridcolor\":\"white\",\"linecolor\":\"white\",\"ticks\":\"\"},\"bgcolor\":\"#E5ECF6\",\"caxis\":{\"gridcolor\":\"white\",\"linecolor\":\"white\",\"ticks\":\"\"}},\"title\":{\"x\":0.05},\"xaxis\":{\"automargin\":true,\"gridcolor\":\"white\",\"linecolor\":\"white\",\"ticks\":\"\",\"title\":{\"standoff\":15},\"zerolinecolor\":\"white\",\"zerolinewidth\":2},\"yaxis\":{\"automargin\":true,\"gridcolor\":\"white\",\"linecolor\":\"white\",\"ticks\":\"\",\"title\":{\"standoff\":15},\"zerolinecolor\":\"white\",\"zerolinewidth\":2}}},\"title\":{\"font\":{\"color\":\"#4D5663\"}},\"xaxis\":{\"gridcolor\":\"#E1E5ED\",\"showgrid\":true,\"tickfont\":{\"color\":\"#4D5663\"},\"title\":{\"font\":{\"color\":\"#4D5663\"},\"text\":\"\"},\"zerolinecolor\":\"#E1E5ED\"},\"yaxis\":{\"gridcolor\":\"#E1E5ED\",\"showgrid\":true,\"tickfont\":{\"color\":\"#4D5663\"},\"title\":{\"font\":{\"color\":\"#4D5663\"},\"text\":\"\"},\"zerolinecolor\":\"#E1E5ED\"}},                        {\"showLink\": true, \"linkText\": \"Export to plot.ly\", \"plotlyServerURL\": \"https://plot.ly\", \"responsive\": true}                    ).then(function(){\n",
       "                            \n",
       "var gd = document.getElementById('3b4c1e8a-908f-4dba-b427-af76a1326aaf');\n",
       "var x = new MutationObserver(function (mutations, observer) {{\n",
       "        var display = window.getComputedStyle(gd).display;\n",
       "        if (!display || display === 'none') {{\n",
       "            console.log([gd, 'removed!']);\n",
       "            Plotly.purge(gd);\n",
       "            observer.disconnect();\n",
       "        }}\n",
       "}});\n",
       "\n",
       "// Listen for the removal of the full notebook cells\n",
       "var notebookContainer = gd.closest('#notebook-container');\n",
       "if (notebookContainer) {{\n",
       "    x.observe(notebookContainer, {childList: true});\n",
       "}}\n",
       "\n",
       "// Listen for the clearing of the current output cell\n",
       "var outputEl = gd.closest('.output');\n",
       "if (outputEl) {{\n",
       "    x.observe(outputEl, {childList: true});\n",
       "}}\n",
       "\n",
       "                        })                };                });            </script>        </div>"
      ]
     },
     "metadata": {},
     "output_type": "display_data"
    }
   ],
   "source": [
    "bodycomp_df_clean.iplot(x = 'Date', y = ['Tracked Protein', 'Tracked Fat', 'Tracked Carb'])"
   ]
  },
  {
   "cell_type": "markdown",
   "id": "7c583284",
   "metadata": {},
   "source": [
    "<h2> Weight Analysis"
   ]
  },
  {
   "cell_type": "markdown",
   "id": "4fbdd5b1",
   "metadata": {},
   "source": [
    "<h4>Heaviest Weight Fully Tracking</h4>"
   ]
  },
  {
   "cell_type": "code",
   "execution_count": 23,
   "id": "79fc174b",
   "metadata": {},
   "outputs": [
    {
     "data": {
      "text/html": [
       "<div>\n",
       "<style scoped>\n",
       "    .dataframe tbody tr th:only-of-type {\n",
       "        vertical-align: middle;\n",
       "    }\n",
       "\n",
       "    .dataframe tbody tr th {\n",
       "        vertical-align: top;\n",
       "    }\n",
       "\n",
       "    .dataframe thead th {\n",
       "        text-align: right;\n",
       "    }\n",
       "</style>\n",
       "<table border=\"1\" class=\"dataframe\">\n",
       "  <thead>\n",
       "    <tr style=\"text-align: right;\">\n",
       "      <th></th>\n",
       "      <th>index</th>\n",
       "      <th>Date</th>\n",
       "      <th>Weight (lb/kg)</th>\n",
       "      <th>Tracked Calories</th>\n",
       "      <th>Tracked Carb</th>\n",
       "      <th>Tracked Fat</th>\n",
       "      <th>Tracked Protein</th>\n",
       "      <th>Eat Out (Y/N)?</th>\n",
       "      <th>Hours of quality sleep</th>\n",
       "      <th>Goal Calories</th>\n",
       "      <th>Goal Carb</th>\n",
       "      <th>Goal Fat</th>\n",
       "      <th>Goal Protein</th>\n",
       "    </tr>\n",
       "  </thead>\n",
       "  <tbody>\n",
       "    <tr>\n",
       "      <th>101</th>\n",
       "      <td>483</td>\n",
       "      <td>2022-08-30 00:00:00</td>\n",
       "      <td>225.6</td>\n",
       "      <td>3453.0</td>\n",
       "      <td>407.0</td>\n",
       "      <td>92.0</td>\n",
       "      <td>251.0</td>\n",
       "      <td>N</td>\n",
       "      <td>5.5</td>\n",
       "      <td>3400</td>\n",
       "      <td>380.0</td>\n",
       "      <td>100.0</td>\n",
       "      <td>245.0</td>\n",
       "    </tr>\n",
       "  </tbody>\n",
       "</table>\n",
       "</div>"
      ],
      "text/plain": [
       "     index                 Date Weight (lb/kg) Tracked Calories Tracked Carb  \\\n",
       "101    483  2022-08-30 00:00:00          225.6           3453.0        407.0   \n",
       "\n",
       "    Tracked Fat Tracked Protein Eat Out (Y/N)?  Hours of quality sleep  \\\n",
       "101        92.0           251.0              N                     5.5   \n",
       "\n",
       "    Goal Calories Goal Carb Goal Fat Goal Protein  \n",
       "101          3400     380.0    100.0        245.0  "
      ]
     },
     "execution_count": 23,
     "metadata": {},
     "output_type": "execute_result"
    }
   ],
   "source": [
    "bodycomp_df_clean[bodycomp_df_clean['Weight (lb/kg)'] == bodycomp_df_clean['Weight (lb/kg)'].max()]"
   ]
  },
  {
   "cell_type": "markdown",
   "id": "adf0e375",
   "metadata": {},
   "source": [
    "<h4>Heaviest Weight Not Fully Tracking</h4>"
   ]
  },
  {
   "cell_type": "code",
   "execution_count": 24,
   "id": "eb4e5b66",
   "metadata": {},
   "outputs": [
    {
     "data": {
      "text/html": [
       "<div>\n",
       "<style scoped>\n",
       "    .dataframe tbody tr th:only-of-type {\n",
       "        vertical-align: middle;\n",
       "    }\n",
       "\n",
       "    .dataframe tbody tr th {\n",
       "        vertical-align: top;\n",
       "    }\n",
       "\n",
       "    .dataframe thead th {\n",
       "        text-align: right;\n",
       "    }\n",
       "</style>\n",
       "<table border=\"1\" class=\"dataframe\">\n",
       "  <thead>\n",
       "    <tr style=\"text-align: right;\">\n",
       "      <th></th>\n",
       "      <th>Date</th>\n",
       "      <th>Weight (lb/kg)</th>\n",
       "      <th>Calories</th>\n",
       "      <th>Carb</th>\n",
       "      <th>Fat</th>\n",
       "      <th>Protein</th>\n",
       "      <th>Eat Out (Y/N)?</th>\n",
       "      <th>Hours of quality sleep</th>\n",
       "      <th>Goal Calories</th>\n",
       "      <th>Carb.1</th>\n",
       "      <th>Fat.1</th>\n",
       "      <th>Protein.1</th>\n",
       "    </tr>\n",
       "  </thead>\n",
       "  <tbody>\n",
       "    <tr>\n",
       "      <th>483</th>\n",
       "      <td>2022-08-30 00:00:00</td>\n",
       "      <td>225.6</td>\n",
       "      <td>NaN</td>\n",
       "      <td>NaN</td>\n",
       "      <td>NaN</td>\n",
       "      <td>NaN</td>\n",
       "      <td>N</td>\n",
       "      <td>5.5</td>\n",
       "      <td>3400</td>\n",
       "      <td>NaN</td>\n",
       "      <td>NaN</td>\n",
       "      <td>NaN</td>\n",
       "    </tr>\n",
       "  </tbody>\n",
       "</table>\n",
       "</div>"
      ],
      "text/plain": [
       "                    Date Weight (lb/kg) Calories Carb  Fat Protein  \\\n",
       "483  2022-08-30 00:00:00          225.6      NaN  NaN  NaN     NaN   \n",
       "\n",
       "    Eat Out (Y/N)? Hours of quality sleep Goal Calories Carb.1 Fat.1 Protein.1  \n",
       "483              N                    5.5          3400    NaN   NaN       NaN  "
      ]
     },
     "execution_count": 24,
     "metadata": {},
     "output_type": "execute_result"
    }
   ],
   "source": [
    "bodycomp_df_unclean[bodycomp_df_unclean['Weight (lb/kg)'] == bodycomp_df_unclean['Weight (lb/kg)'].max()]"
   ]
  },
  {
   "cell_type": "markdown",
   "id": "a4a524af",
   "metadata": {},
   "source": [
    "<h4> Average Weight"
   ]
  },
  {
   "cell_type": "code",
   "execution_count": 25,
   "id": "9961d0dc",
   "metadata": {},
   "outputs": [
    {
     "data": {
      "text/plain": [
       "215.0"
      ]
     },
     "execution_count": 25,
     "metadata": {},
     "output_type": "execute_result"
    }
   ],
   "source": [
    "bodycomp_df_clean['Weight (lb/kg)'].mean().round()"
   ]
  },
  {
   "cell_type": "markdown",
   "id": "c791f15d",
   "metadata": {},
   "source": [
    "<h4>Total Weight Gain From Lightest to Heaviest"
   ]
  },
  {
   "cell_type": "code",
   "execution_count": 26,
   "id": "79963a8d",
   "metadata": {},
   "outputs": [
    {
     "data": {
      "text/plain": [
       "18.799999999999983"
      ]
     },
     "execution_count": 26,
     "metadata": {},
     "output_type": "execute_result"
    }
   ],
   "source": [
    "(bodycomp_df_clean['Weight (lb/kg)'].max()) - (bodycomp_df_clean['Weight (lb/kg)'].min())"
   ]
  },
  {
   "cell_type": "markdown",
   "id": "c6cb7750",
   "metadata": {},
   "source": [
    "<h2> Sleep Analysis"
   ]
  },
  {
   "cell_type": "markdown",
   "id": "44df7c23",
   "metadata": {},
   "source": [
    "<h4> Average Hours of Quality Sleep </h4>"
   ]
  },
  {
   "cell_type": "code",
   "execution_count": 27,
   "id": "bccc935d",
   "metadata": {},
   "outputs": [
    {
     "data": {
      "text/plain": [
       "6.764351851851853"
      ]
     },
     "execution_count": 27,
     "metadata": {},
     "output_type": "execute_result"
    }
   ],
   "source": [
    "bodycomp_df_clean['Hours of quality sleep'].mean()"
   ]
  },
  {
   "cell_type": "markdown",
   "id": "473183e7",
   "metadata": {},
   "source": [
    "<h4> Plotting Sleep Over Time"
   ]
  },
  {
   "cell_type": "code",
   "execution_count": 31,
   "id": "3cfd6873",
   "metadata": {
    "scrolled": true
   },
   "outputs": [
    {
     "data": {
      "text/plain": [
       "Text(0.5, 1.0, 'Plotting Sleep Over Time')"
      ]
     },
     "execution_count": 31,
     "metadata": {},
     "output_type": "execute_result"
    },
    {
     "data": {
      "image/png": "[encoded data removed]",
      "text/plain": [
       "<Figure size 648x432 with 1 Axes>"
      ]
     },
     "metadata": {
      "needs_background": "light"
     },
     "output_type": "display_data"
    }
   ],
   "source": [
    "fig = plt.figure(figsize = (9,6))\n",
    "\n",
    "axes = fig.add_axes([0.1,0.1,0.8,0.8])\n",
    "\n",
    "axes.plot(bodycomp_df_clean['Date'], bodycomp_df_clean['Hours of quality sleep'])\n",
    "axes.set_xlabel('Time')\n",
    "axes.set_ylabel('Hours of Quality Sleep')\n",
    "axes.set_title('Plotting Sleep Over Time')"
   ]
  },
  {
   "cell_type": "markdown",
   "id": "dd6dd0d4",
   "metadata": {},
   "source": [
    "<h4> Distribution of Total Sleep"
   ]
  },
  {
   "cell_type": "code",
   "execution_count": 35,
   "id": "fce533a8",
   "metadata": {},
   "outputs": [
    {
     "data": {
      "image/png": "[encoded data removed]",
      "text/plain": [
       "<Figure size 432x288 with 1 Axes>"
      ]
     },
     "metadata": {
      "needs_background": "light"
     },
     "output_type": "display_data"
    }
   ],
   "source": [
    "sns.histplot(bodycomp_df_clean['Hours of quality sleep'], bins = 15, kde = True)\n",
    "\n",
    "plt.show()"
   ]
  },
  {
   "cell_type": "code",
   "execution_count": 36,
   "id": "1c473e80",
   "metadata": {
    "scrolled": true
   },
   "outputs": [
    {
     "data": {
      "image/png": "[encoded data removed]",
      "text/plain": [
       "<Figure size 432x432 with 3 Axes>"
      ]
     },
     "metadata": {
      "needs_background": "light"
     },
     "output_type": "display_data"
    }
   ],
   "source": [
    "sns.jointplot(x = 'Hours of quality sleep', y = 'Weight (lb/kg)', data = bodycomp_df_clean)\n",
    "\n",
    "plt.show()"
   ]
  },
  {
   "cell_type": "markdown",
   "id": "d7406b21",
   "metadata": {},
   "source": [
    "<h2>Out to Eat Analysis"
   ]
  },
  {
   "cell_type": "code",
   "execution_count": 45,
   "id": "6ca22522",
   "metadata": {},
   "outputs": [
    {
     "data": {
      "text/html": [
       "<div>\n",
       "<style scoped>\n",
       "    .dataframe tbody tr th:only-of-type {\n",
       "        vertical-align: middle;\n",
       "    }\n",
       "\n",
       "    .dataframe tbody tr th {\n",
       "        vertical-align: top;\n",
       "    }\n",
       "\n",
       "    .dataframe thead th {\n",
       "        text-align: right;\n",
       "    }\n",
       "</style>\n",
       "<table border=\"1\" class=\"dataframe\">\n",
       "  <thead>\n",
       "    <tr style=\"text-align: right;\">\n",
       "      <th></th>\n",
       "      <th>index</th>\n",
       "      <th>Date</th>\n",
       "      <th>Weight (lb/kg)</th>\n",
       "      <th>Tracked Calories</th>\n",
       "      <th>Tracked Carb</th>\n",
       "      <th>Tracked Fat</th>\n",
       "      <th>Tracked Protein</th>\n",
       "      <th>Eat Out (Y/N)?</th>\n",
       "      <th>Hours of quality sleep</th>\n",
       "      <th>Goal Calories</th>\n",
       "      <th>Goal Carb</th>\n",
       "      <th>Goal Fat</th>\n",
       "      <th>Goal Protein</th>\n",
       "    </tr>\n",
       "  </thead>\n",
       "  <tbody>\n",
       "    <tr>\n",
       "      <th>22</th>\n",
       "      <td>230</td>\n",
       "      <td>2022-01-21 00:00:00</td>\n",
       "      <td>210.8</td>\n",
       "      <td>3000.0</td>\n",
       "      <td>391.0</td>\n",
       "      <td>67.0</td>\n",
       "      <td>227.0</td>\n",
       "      <td>Y</td>\n",
       "      <td>6.5</td>\n",
       "      <td>3290</td>\n",
       "      <td>400.0</td>\n",
       "      <td>90.0</td>\n",
       "      <td>220.0</td>\n",
       "    </tr>\n",
       "    <tr>\n",
       "      <th>23</th>\n",
       "      <td>234</td>\n",
       "      <td>2022-01-24 00:00:00</td>\n",
       "      <td>213.2</td>\n",
       "      <td>3329.0</td>\n",
       "      <td>447.0</td>\n",
       "      <td>83.0</td>\n",
       "      <td>211.0</td>\n",
       "      <td>Y</td>\n",
       "      <td>7.5</td>\n",
       "      <td>3290</td>\n",
       "      <td>400.0</td>\n",
       "      <td>90.0</td>\n",
       "      <td>220.0</td>\n",
       "    </tr>\n",
       "    <tr>\n",
       "      <th>45</th>\n",
       "      <td>282</td>\n",
       "      <td>2022-03-07 00:00:00</td>\n",
       "      <td>213.4</td>\n",
       "      <td>3715.0</td>\n",
       "      <td>456.0</td>\n",
       "      <td>100.0</td>\n",
       "      <td>257.0</td>\n",
       "      <td>Y</td>\n",
       "      <td>7.0</td>\n",
       "      <td>3655</td>\n",
       "      <td>455.0</td>\n",
       "      <td>95.0</td>\n",
       "      <td>245.0</td>\n",
       "    </tr>\n",
       "    <tr>\n",
       "      <th>58</th>\n",
       "      <td>320</td>\n",
       "      <td>2022-04-09 00:00:00</td>\n",
       "      <td>213.0</td>\n",
       "      <td>3610.0</td>\n",
       "      <td>467.0</td>\n",
       "      <td>105</td>\n",
       "      <td>244.0</td>\n",
       "      <td>Y</td>\n",
       "      <td>8.0</td>\n",
       "      <td>3655</td>\n",
       "      <td>455.0</td>\n",
       "      <td>95.0</td>\n",
       "      <td>245.0</td>\n",
       "    </tr>\n",
       "    <tr>\n",
       "      <th>65</th>\n",
       "      <td>332</td>\n",
       "      <td>2022-04-20 00:00:00</td>\n",
       "      <td>216.8</td>\n",
       "      <td>3922.0</td>\n",
       "      <td>512.0</td>\n",
       "      <td>105</td>\n",
       "      <td>238.0</td>\n",
       "      <td>Y</td>\n",
       "      <td>4.0</td>\n",
       "      <td>3655</td>\n",
       "      <td>455.0</td>\n",
       "      <td>95.0</td>\n",
       "      <td>245.0</td>\n",
       "    </tr>\n",
       "    <tr>\n",
       "      <th>70</th>\n",
       "      <td>341</td>\n",
       "      <td>2022-04-28 00:00:00</td>\n",
       "      <td>217.0</td>\n",
       "      <td>3410.0</td>\n",
       "      <td>427.0</td>\n",
       "      <td>85.0</td>\n",
       "      <td>224.0</td>\n",
       "      <td>Y</td>\n",
       "      <td>6.0</td>\n",
       "      <td>3655</td>\n",
       "      <td>455.0</td>\n",
       "      <td>95.0</td>\n",
       "      <td>245.0</td>\n",
       "    </tr>\n",
       "  </tbody>\n",
       "</table>\n",
       "</div>"
      ],
      "text/plain": [
       "    index                 Date Weight (lb/kg) Tracked Calories Tracked Carb  \\\n",
       "22    230  2022-01-21 00:00:00          210.8           3000.0        391.0   \n",
       "23    234  2022-01-24 00:00:00          213.2           3329.0        447.0   \n",
       "45    282  2022-03-07 00:00:00          213.4           3715.0        456.0   \n",
       "58    320  2022-04-09 00:00:00          213.0           3610.0        467.0   \n",
       "65    332  2022-04-20 00:00:00          216.8           3922.0        512.0   \n",
       "70    341  2022-04-28 00:00:00          217.0           3410.0        427.0   \n",
       "\n",
       "   Tracked Fat Tracked Protein Eat Out (Y/N)?  Hours of quality sleep  \\\n",
       "22        67.0           227.0              Y                     6.5   \n",
       "23        83.0           211.0              Y                     7.5   \n",
       "45       100.0           257.0              Y                     7.0   \n",
       "58         105           244.0              Y                     8.0   \n",
       "65         105           238.0              Y                     4.0   \n",
       "70        85.0           224.0              Y                     6.0   \n",
       "\n",
       "   Goal Calories Goal Carb Goal Fat Goal Protein  \n",
       "22          3290     400.0     90.0        220.0  \n",
       "23          3290     400.0     90.0        220.0  \n",
       "45          3655     455.0     95.0        245.0  \n",
       "58          3655     455.0     95.0        245.0  \n",
       "65          3655     455.0     95.0        245.0  \n",
       "70          3655     455.0     95.0        245.0  "
      ]
     },
     "execution_count": 45,
     "metadata": {},
     "output_type": "execute_result"
    }
   ],
   "source": [
    "avg_pro_outtoeat = bodycomp_df_clean[(bodycomp_df_clean['Eat Out (Y/N)?'] == 'Y')]\n",
    "avg_pro_outtoeat"
   ]
  },
  {
   "cell_type": "markdown",
   "id": "f634ceb4",
   "metadata": {},
   "source": [
    "<h4> How Many Times Did I Go Out To Eat (Clean Data)"
   ]
  },
  {
   "cell_type": "code",
   "execution_count": 46,
   "id": "4f37d0d7",
   "metadata": {},
   "outputs": [
    {
     "data": {
      "text/plain": [
       "6"
      ]
     },
     "execution_count": 46,
     "metadata": {},
     "output_type": "execute_result"
    }
   ],
   "source": [
    "len(avg_pro_outtoeat)"
   ]
  },
  {
   "cell_type": "markdown",
   "id": "8e25bc64",
   "metadata": {},
   "source": [
    "<h4> How Many Times Did I Go Out To Eat (Unclean Data)"
   ]
  },
  {
   "cell_type": "code",
   "execution_count": 39,
   "id": "dc0df1d8",
   "metadata": {},
   "outputs": [
    {
     "data": {
      "text/plain": [
       "8"
      ]
     },
     "execution_count": 39,
     "metadata": {},
     "output_type": "execute_result"
    }
   ],
   "source": [
    "len(bodycomp_df_unclean[(bodycomp_df_unclean['Eat Out (Y/N)?'] == 'Y')])"
   ]
  },
  {
   "cell_type": "markdown",
   "id": "5ebe12c5",
   "metadata": {},
   "source": [
    "<h4> Average Protein Intake while Eating Out"
   ]
  },
  {
   "cell_type": "code",
   "execution_count": 52,
   "id": "851d286c",
   "metadata": {},
   "outputs": [
    {
     "data": {
      "text/plain": [
       "234.0"
      ]
     },
     "execution_count": 52,
     "metadata": {},
     "output_type": "execute_result"
    }
   ],
   "source": [
    "avg_pro_outtoeat['Tracked Protein'].mean().round()"
   ]
  },
  {
   "cell_type": "markdown",
   "id": "671fb2b8",
   "metadata": {},
   "source": [
    "<h4> Average Calorie Intake while Eating Out"
   ]
  },
  {
   "cell_type": "code",
   "execution_count": 51,
   "id": "dfc80cbc",
   "metadata": {},
   "outputs": [
    {
     "data": {
      "text/plain": [
       "3498.0"
      ]
     },
     "execution_count": 51,
     "metadata": {},
     "output_type": "execute_result"
    }
   ],
   "source": [
    "avg_pro_outtoeat['Tracked Calories'].mean().round()"
   ]
  },
  {
   "cell_type": "markdown",
   "id": "058ea3df",
   "metadata": {},
   "source": [
    "<h4> Is Tracked Protein for Going Out greater than or less than Everyday Tracking"
   ]
  },
  {
   "cell_type": "markdown",
   "id": "50a75fe9",
   "metadata": {},
   "source": [
    "Comparing Averages"
   ]
  },
  {
   "cell_type": "code",
   "execution_count": 56,
   "id": "f32d7527",
   "metadata": {},
   "outputs": [],
   "source": [
    "def is_greater(Out_to_Eat,Normal):\n",
    "    if  Out_to_Eat > Normal:\n",
    "        return \"On average, going out to eat has a greater protein intake as a normal tracking day\"\n",
    "    elif Out_to_Eat == Normal:\n",
    "        return \"On average, going out to eat has equal protein intake as a normal tracking day\"\n",
    "    else:\n",
    "        return \"On average, going out to eat has less protein intake as a normal tracking day\""
   ]
  },
  {
   "cell_type": "code",
   "execution_count": 57,
   "id": "d40567ec",
   "metadata": {},
   "outputs": [
    {
     "data": {
      "text/plain": [
       "'On average, going out to eat has less protein intake as a normal tracking day'"
      ]
     },
     "execution_count": 57,
     "metadata": {},
     "output_type": "execute_result"
    }
   ],
   "source": [
    "is_greater(avg_pro_outtoeat['Tracked Protein'].mean(),bodycomp_df_clean['Tracked Protein'].mean())"
   ]
  },
  {
   "cell_type": "code",
   "execution_count": null,
   "id": "249ac63c",
   "metadata": {},
   "outputs": [],
   "source": []
  }
 ],
 "metadata": {
  "kernelspec": {
   "display_name": "Python 3 (ipykernel)",
   "language": "python",
   "name": "python3"
  },
  "language_info": {
   "codemirror_mode": {
    "name": "ipython",
    "version": 3
   },
   "file_extension": ".py",
   "mimetype": "text/x-python",
   "name": "python",
   "nbconvert_exporter": "python",
   "pygments_lexer": "ipython3",
   "version": "3.9.12"
  }
 },
 "nbformat": 4,
 "nbformat_minor": 5
}
